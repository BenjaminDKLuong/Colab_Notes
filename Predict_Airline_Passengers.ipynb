{
  "nbformat": 4,
  "nbformat_minor": 0,
  "metadata": {
    "colab": {
      "name": "Predict_Airline_Passengers.ipynb",
      "version": "0.3.2",
      "provenance": [],
      "collapsed_sections": [],
      "include_colab_link": true
    },
    "kernelspec": {
      "name": "python3",
      "display_name": "Python 3"
    }
  },
  "cells": [
    {
      "cell_type": "markdown",
      "metadata": {
        "id": "view-in-github",
        "colab_type": "text"
      },
      "source": [
        "<a href=\"https://colab.research.google.com/github/BenjaminDKLuong/Colab_Notes/blob/master/Predict_Airline_Passengers.ipynb\" target=\"_parent\"><img src=\"https://colab.research.google.com/assets/colab-badge.svg\" alt=\"Open In Colab\"/></a>"
      ]
    },
    {
      "metadata": {
        "id": "PYyWL1gsz99j",
        "colab_type": "text"
      },
      "cell_type": "markdown",
      "source": [
        "# Predict_Airline_Passengers"
      ]
    },
    {
      "metadata": {
        "id": "YVKXh7wpAeHu",
        "colab_type": "code",
        "colab": {}
      },
      "cell_type": "code",
      "source": [
        "import pandas as pd\n",
        "\n",
        "url = 'https://raw.githubusercontent.com/PacktPublishing/Real-World-Python-Deep-Learning-Projects/master/Section%202%20Code/source/data/airline_data.csv'\n",
        "df = pd.read_csv(url,header=2)\n"
      ],
      "execution_count": 0,
      "outputs": []
    },
    {
      "metadata": {
        "id": "wqFVWJ9ilssi",
        "colab_type": "code",
        "colab": {
          "base_uri": "https://localhost:8080/",
          "height": 273
        },
        "outputId": "edcba7f5-93ed-4819-a6a6-965f2098bc11"
      },
      "cell_type": "code",
      "source": [
        "df.head(2)"
      ],
      "execution_count": 13,
      "outputs": [
        {
          "output_type": "execute_result",
          "data": {
            "text/html": [
              "<div>\n",
              "<style scoped>\n",
              "    .dataframe tbody tr th:only-of-type {\n",
              "        vertical-align: middle;\n",
              "    }\n",
              "\n",
              "    .dataframe tbody tr th {\n",
              "        vertical-align: top;\n",
              "    }\n",
              "\n",
              "    .dataframe thead th {\n",
              "        text-align: right;\n",
              "    }\n",
              "</style>\n",
              "<table border=\"1\" class=\"dataframe\">\n",
              "  <thead>\n",
              "    <tr style=\"text-align: right;\">\n",
              "      <th></th>\n",
              "      <th>Country Name</th>\n",
              "      <th>Country Code</th>\n",
              "      <th>Indicator Name</th>\n",
              "      <th>Indicator Code</th>\n",
              "      <th>1960</th>\n",
              "      <th>1961</th>\n",
              "      <th>1962</th>\n",
              "      <th>1963</th>\n",
              "      <th>1964</th>\n",
              "      <th>1965</th>\n",
              "      <th>...</th>\n",
              "      <th>2009</th>\n",
              "      <th>2010</th>\n",
              "      <th>2011</th>\n",
              "      <th>2012</th>\n",
              "      <th>2013</th>\n",
              "      <th>2014</th>\n",
              "      <th>2015</th>\n",
              "      <th>2016</th>\n",
              "      <th>2017</th>\n",
              "      <th>Unnamed: 62</th>\n",
              "    </tr>\n",
              "  </thead>\n",
              "  <tbody>\n",
              "    <tr>\n",
              "      <th>0</th>\n",
              "      <td>Aruba</td>\n",
              "      <td>ABW</td>\n",
              "      <td>Air transport, passengers carried</td>\n",
              "      <td>IS.AIR.PSGR</td>\n",
              "      <td>NaN</td>\n",
              "      <td>NaN</td>\n",
              "      <td>NaN</td>\n",
              "      <td>NaN</td>\n",
              "      <td>NaN</td>\n",
              "      <td>NaN</td>\n",
              "      <td>...</td>\n",
              "      <td>NaN</td>\n",
              "      <td>NaN</td>\n",
              "      <td>NaN</td>\n",
              "      <td>NaN</td>\n",
              "      <td>NaN</td>\n",
              "      <td>NaN</td>\n",
              "      <td>NaN</td>\n",
              "      <td>NaN</td>\n",
              "      <td>NaN</td>\n",
              "      <td>NaN</td>\n",
              "    </tr>\n",
              "    <tr>\n",
              "      <th>1</th>\n",
              "      <td>Afghanistan</td>\n",
              "      <td>AFG</td>\n",
              "      <td>Air transport, passengers carried</td>\n",
              "      <td>IS.AIR.PSGR</td>\n",
              "      <td>NaN</td>\n",
              "      <td>NaN</td>\n",
              "      <td>NaN</td>\n",
              "      <td>NaN</td>\n",
              "      <td>NaN</td>\n",
              "      <td>NaN</td>\n",
              "      <td>...</td>\n",
              "      <td>NaN</td>\n",
              "      <td>1999127.0</td>\n",
              "      <td>2.279341e+06</td>\n",
              "      <td>1.737962e+06</td>\n",
              "      <td>2044188.0</td>\n",
              "      <td>2209428.0</td>\n",
              "      <td>1929907.0</td>\n",
              "      <td>1917924.0</td>\n",
              "      <td>1858558.0</td>\n",
              "      <td>NaN</td>\n",
              "    </tr>\n",
              "  </tbody>\n",
              "</table>\n",
              "<p>2 rows × 63 columns</p>\n",
              "</div>"
            ],
            "text/plain": [
              "  Country Name Country Code                     Indicator Name Indicator Code  \\\n",
              "0        Aruba          ABW  Air transport, passengers carried    IS.AIR.PSGR   \n",
              "1  Afghanistan          AFG  Air transport, passengers carried    IS.AIR.PSGR   \n",
              "\n",
              "   1960  1961  1962  1963  1964  1965  ...  2009       2010          2011  \\\n",
              "0   NaN   NaN   NaN   NaN   NaN   NaN  ...   NaN        NaN           NaN   \n",
              "1   NaN   NaN   NaN   NaN   NaN   NaN  ...   NaN  1999127.0  2.279341e+06   \n",
              "\n",
              "           2012       2013       2014       2015       2016       2017  \\\n",
              "0           NaN        NaN        NaN        NaN        NaN        NaN   \n",
              "1  1.737962e+06  2044188.0  2209428.0  1929907.0  1917924.0  1858558.0   \n",
              "\n",
              "   Unnamed: 62  \n",
              "0          NaN  \n",
              "1          NaN  \n",
              "\n",
              "[2 rows x 63 columns]"
            ]
          },
          "metadata": {
            "tags": []
          },
          "execution_count": 13
        }
      ]
    },
    {
      "metadata": {
        "id": "nY-jqTYHbydw",
        "colab_type": "code",
        "colab": {}
      },
      "cell_type": "code",
      "source": [
        "def get_raw_xy(data, column='Country Name', value='World'):\n",
        "    v=data.loc[data[column] == value].iloc[:,17:62]\n",
        "    x=[ v for v in v.values.astype('float32')[0] ]\n",
        "    return x, [ int(vv) for vv in list(v) ]"
      ],
      "execution_count": 0,
      "outputs": []
    },
    {
      "metadata": {
        "id": "1hraGxwCbybU",
        "colab_type": "code",
        "colab": {}
      },
      "cell_type": "code",
      "source": [
        "values, years = get_raw_xy(df)\n",
        "rv=list(zip(years, values))"
      ],
      "execution_count": 0,
      "outputs": []
    },
    {
      "metadata": {
        "id": "ofsR6juebyYL",
        "colab_type": "code",
        "colab": {}
      },
      "cell_type": "code",
      "source": [
        "def get_vpo(values):\n",
        "    yy=[np.nan]*len(values)\n",
        "    for i, v in enumerate(values):\n",
        "        if i+1>len(values)-1:\n",
        "            break\n",
        "        yy[i+1]=values[i]\n",
        "    return yy"
      ],
      "execution_count": 0,
      "outputs": []
    },
    {
      "metadata": {
        "id": "WFYny9UVbyVE",
        "colab_type": "code",
        "colab": {}
      },
      "cell_type": "code",
      "source": [
        "import numpy as np\n",
        "past_values=get_vpo(values)"
      ],
      "execution_count": 0,
      "outputs": []
    },
    {
      "metadata": {
        "id": "sazl2OTEbySN",
        "colab_type": "code",
        "colab": {}
      },
      "cell_type": "code",
      "source": [
        "dpo=list(zip([1972]+years, past_values, years, values))\n",
        "dpo=list(zip(past_values[1:], values[1:]))\n",
        "year_df, past_value_df, value_df = years[1:], past_values[1:], values[1:]"
      ],
      "execution_count": 0,
      "outputs": []
    },
    {
      "metadata": {
        "id": "HFikHISJbyPO",
        "colab_type": "code",
        "colab": {}
      },
      "cell_type": "code",
      "source": [
        "def train_test_split(rawx, xpo):\n",
        "    train_size=int(len(rawx)*0.80)\n",
        "    test_size=int(len(rawx)*0.20)\n",
        "    #print(train_size, test_size, len(rawx))\n",
        "    train_x, train_y = np.array(rawx[:train_size]), np.array(xpo[:train_size])\n",
        "    test_x, test_y = np.array(rawx[train_size:]), np.array(xpo[train_size:])\n",
        "    return train_x, train_y, test_x, test_y\n",
        "\n",
        "def get_params(script='train.py'):\n",
        "    xa=''\n",
        "    if script == 'train.py':\n",
        "        xa='[plot|ploth]'\n",
        "    try:\n",
        "        name, epochs, batches=sys.argv[1:4]\n",
        "    except ValueError:\n",
        "        print('Usage: %s model_name epochs batch_size %s' % (script, xa))\n",
        "        exit(1)\n",
        "    try:\n",
        "        plot=sys.argv[4]\n",
        "    except IndexError:\n",
        "        plot=False\n",
        "\n",
        "    return name, int(epochs), int(batches), plot"
      ],
      "execution_count": 0,
      "outputs": []
    },
    {
      "metadata": {
        "id": "hkK0VjXRbyL4",
        "colab_type": "code",
        "colab": {
          "base_uri": "https://localhost:8080/",
          "height": 34
        },
        "outputId": "a4d2599b-6c09-4ef7-d90b-f6dee09464f1"
      },
      "cell_type": "code",
      "source": [
        "from keras.models import Sequential, load_model\n",
        "from keras.layers import Dense\n",
        "\n",
        "import math\n",
        "import os\n",
        "import sys\n",
        "import pandas\n",
        "import pickle"
      ],
      "execution_count": 20,
      "outputs": [
        {
          "output_type": "stream",
          "text": [
            "Using TensorFlow backend.\n"
          ],
          "name": "stderr"
        }
      ]
    },
    {
      "metadata": {
        "id": "ocvGytiRbyIr",
        "colab_type": "code",
        "colab": {}
      },
      "cell_type": "code",
      "source": [
        ""
      ],
      "execution_count": 0,
      "outputs": []
    },
    {
      "metadata": {
        "id": "gxP5PtOFt5D4",
        "colab_type": "code",
        "colab": {}
      },
      "cell_type": "code",
      "source": [
        ""
      ],
      "execution_count": 0,
      "outputs": []
    },
    {
      "metadata": {
        "id": "qNrLZW7ht5BA",
        "colab_type": "code",
        "colab": {}
      },
      "cell_type": "code",
      "source": [
        ""
      ],
      "execution_count": 0,
      "outputs": []
    },
    {
      "metadata": {
        "id": "s5PGlCTkt494",
        "colab_type": "code",
        "colab": {}
      },
      "cell_type": "code",
      "source": [
        ""
      ],
      "execution_count": 0,
      "outputs": []
    },
    {
      "metadata": {
        "id": "FHHGfXewt47A",
        "colab_type": "code",
        "colab": {}
      },
      "cell_type": "code",
      "source": [
        ""
      ],
      "execution_count": 0,
      "outputs": []
    },
    {
      "metadata": {
        "id": "7RSSetDkt44I",
        "colab_type": "code",
        "colab": {}
      },
      "cell_type": "code",
      "source": [
        ""
      ],
      "execution_count": 0,
      "outputs": []
    },
    {
      "metadata": {
        "id": "7RTl7uaebyFV",
        "colab_type": "code",
        "colab": {}
      },
      "cell_type": "code",
      "source": [
        ""
      ],
      "execution_count": 0,
      "outputs": []
    },
    {
      "metadata": {
        "id": "SKy6iKzQbx_3",
        "colab_type": "code",
        "colab": {}
      },
      "cell_type": "code",
      "source": [
        ""
      ],
      "execution_count": 0,
      "outputs": []
    },
    {
      "metadata": {
        "id": "E0HvJKWjbxuV",
        "colab_type": "code",
        "colab": {}
      },
      "cell_type": "code",
      "source": [
        ""
      ],
      "execution_count": 0,
      "outputs": []
    }
  ]
}
{
  "nbformat": 4,
  "nbformat_minor": 0,
  "metadata": {
    "colab": {
      "name": "Predict_Airline_Passengers.ipynb",
      "version": "0.3.2",
      "provenance": [],
      "collapsed_sections": [],
      "include_colab_link": true
    },
    "kernelspec": {
      "name": "python3",
      "display_name": "Python 3"
    }
  },
  "cells": [
    {
      "cell_type": "markdown",
      "metadata": {
        "id": "view-in-github",
        "colab_type": "text"
      },
      "source": [
        "<a href=\"https://colab.research.google.com/github/BenjaminDKLuong/Colab_Notes/blob/master/Predict_Airline_Passengers.ipynb\" target=\"_parent\"><img src=\"https://colab.research.google.com/assets/colab-badge.svg\" alt=\"Open In Colab\"/></a>"
      ]
    },
    {
      "metadata": {
        "id": "PYyWL1gsz99j",
        "colab_type": "text"
      },
      "cell_type": "markdown",
      "source": [
        "# Predict_Airline_Passengers"
      ]
    },
    {
      "metadata": {
        "id": "YVKXh7wpAeHu",
        "colab_type": "code",
        "colab": {}
      },
      "cell_type": "code",
      "source": [
        "import pandas as pd\n",
        "\n",
        "url = 'https://raw.githubusercontent.com/PacktPublishing/Real-World-Python-Deep-Learning-Projects/master/Section%202%20Code/source/data/airline_data.csv'\n",
        "df = pd.read_csv(url,header=2)\n"
      ],
      "execution_count": 0,
      "outputs": []
    },
    {
      "metadata": {
        "id": "wqFVWJ9ilssi",
        "colab_type": "code",
        "outputId": "dea3aee8-ac7b-4ead-c6ad-dd718f926494",
        "colab": {
          "base_uri": "https://localhost:8080/",
          "height": 273
        }
      },
      "cell_type": "code",
      "source": [
        "df.head(2)"
      ],
      "execution_count": 21,
      "outputs": [
        {
          "output_type": "execute_result",
          "data": {
            "text/html": [
              "<div>\n",
              "<style scoped>\n",
              "    .dataframe tbody tr th:only-of-type {\n",
              "        vertical-align: middle;\n",
              "    }\n",
              "\n",
              "    .dataframe tbody tr th {\n",
              "        vertical-align: top;\n",
              "    }\n",
              "\n",
              "    .dataframe thead th {\n",
              "        text-align: right;\n",
              "    }\n",
              "</style>\n",
              "<table border=\"1\" class=\"dataframe\">\n",
              "  <thead>\n",
              "    <tr style=\"text-align: right;\">\n",
              "      <th></th>\n",
              "      <th>Country Name</th>\n",
              "      <th>Country Code</th>\n",
              "      <th>Indicator Name</th>\n",
              "      <th>Indicator Code</th>\n",
              "      <th>1960</th>\n",
              "      <th>1961</th>\n",
              "      <th>1962</th>\n",
              "      <th>1963</th>\n",
              "      <th>1964</th>\n",
              "      <th>1965</th>\n",
              "      <th>...</th>\n",
              "      <th>2009</th>\n",
              "      <th>2010</th>\n",
              "      <th>2011</th>\n",
              "      <th>2012</th>\n",
              "      <th>2013</th>\n",
              "      <th>2014</th>\n",
              "      <th>2015</th>\n",
              "      <th>2016</th>\n",
              "      <th>2017</th>\n",
              "      <th>Unnamed: 62</th>\n",
              "    </tr>\n",
              "  </thead>\n",
              "  <tbody>\n",
              "    <tr>\n",
              "      <th>0</th>\n",
              "      <td>Aruba</td>\n",
              "      <td>ABW</td>\n",
              "      <td>Air transport, passengers carried</td>\n",
              "      <td>IS.AIR.PSGR</td>\n",
              "      <td>NaN</td>\n",
              "      <td>NaN</td>\n",
              "      <td>NaN</td>\n",
              "      <td>NaN</td>\n",
              "      <td>NaN</td>\n",
              "      <td>NaN</td>\n",
              "      <td>...</td>\n",
              "      <td>NaN</td>\n",
              "      <td>NaN</td>\n",
              "      <td>NaN</td>\n",
              "      <td>NaN</td>\n",
              "      <td>NaN</td>\n",
              "      <td>NaN</td>\n",
              "      <td>NaN</td>\n",
              "      <td>NaN</td>\n",
              "      <td>NaN</td>\n",
              "      <td>NaN</td>\n",
              "    </tr>\n",
              "    <tr>\n",
              "      <th>1</th>\n",
              "      <td>Afghanistan</td>\n",
              "      <td>AFG</td>\n",
              "      <td>Air transport, passengers carried</td>\n",
              "      <td>IS.AIR.PSGR</td>\n",
              "      <td>NaN</td>\n",
              "      <td>NaN</td>\n",
              "      <td>NaN</td>\n",
              "      <td>NaN</td>\n",
              "      <td>NaN</td>\n",
              "      <td>NaN</td>\n",
              "      <td>...</td>\n",
              "      <td>NaN</td>\n",
              "      <td>1999127.0</td>\n",
              "      <td>2.279341e+06</td>\n",
              "      <td>1.737962e+06</td>\n",
              "      <td>2044188.0</td>\n",
              "      <td>2209428.0</td>\n",
              "      <td>1929907.0</td>\n",
              "      <td>1917924.0</td>\n",
              "      <td>1858558.0</td>\n",
              "      <td>NaN</td>\n",
              "    </tr>\n",
              "  </tbody>\n",
              "</table>\n",
              "<p>2 rows × 63 columns</p>\n",
              "</div>"
            ],
            "text/plain": [
              "  Country Name Country Code                     Indicator Name Indicator Code  \\\n",
              "0        Aruba          ABW  Air transport, passengers carried    IS.AIR.PSGR   \n",
              "1  Afghanistan          AFG  Air transport, passengers carried    IS.AIR.PSGR   \n",
              "\n",
              "   1960  1961  1962  1963  1964  1965  ...  2009       2010          2011  \\\n",
              "0   NaN   NaN   NaN   NaN   NaN   NaN  ...   NaN        NaN           NaN   \n",
              "1   NaN   NaN   NaN   NaN   NaN   NaN  ...   NaN  1999127.0  2.279341e+06   \n",
              "\n",
              "           2012       2013       2014       2015       2016       2017  \\\n",
              "0           NaN        NaN        NaN        NaN        NaN        NaN   \n",
              "1  1.737962e+06  2044188.0  2209428.0  1929907.0  1917924.0  1858558.0   \n",
              "\n",
              "   Unnamed: 62  \n",
              "0          NaN  \n",
              "1          NaN  \n",
              "\n",
              "[2 rows x 63 columns]"
            ]
          },
          "metadata": {
            "tags": []
          },
          "execution_count": 21
        }
      ]
    },
    {
      "metadata": {
        "id": "nY-jqTYHbydw",
        "colab_type": "code",
        "colab": {}
      },
      "cell_type": "code",
      "source": [
        "def get_raw_xy(data, column='Country Name', value='World'):\n",
        "    v=data.loc[data[column] == value].iloc[:,17:62]\n",
        "    x=[ v for v in v.values.astype('float32')[0] ]\n",
        "    return x, [ int(vv) for vv in list(v) ]"
      ],
      "execution_count": 0,
      "outputs": []
    },
    {
      "metadata": {
        "id": "1hraGxwCbybU",
        "colab_type": "code",
        "colab": {}
      },
      "cell_type": "code",
      "source": [
        "values, years = get_raw_xy(df)\n",
        "rv=list(zip(years, values))"
      ],
      "execution_count": 0,
      "outputs": []
    },
    {
      "metadata": {
        "id": "ofsR6juebyYL",
        "colab_type": "code",
        "colab": {}
      },
      "cell_type": "code",
      "source": [
        "def get_vpo(values):\n",
        "    yy=[np.nan]*len(values)\n",
        "    for i, v in enumerate(values):\n",
        "        if i+1>len(values)-1:\n",
        "            break\n",
        "        yy[i+1]=values[i]\n",
        "    return yy"
      ],
      "execution_count": 0,
      "outputs": []
    },
    {
      "metadata": {
        "id": "WFYny9UVbyVE",
        "colab_type": "code",
        "colab": {}
      },
      "cell_type": "code",
      "source": [
        "import numpy as np\n",
        "past_values=get_vpo(values)"
      ],
      "execution_count": 0,
      "outputs": []
    },
    {
      "metadata": {
        "id": "sazl2OTEbySN",
        "colab_type": "code",
        "colab": {}
      },
      "cell_type": "code",
      "source": [
        "dpo=list(zip([1972]+years, past_values, years, values))\n",
        "dpo=list(zip(past_values[1:], values[1:]))\n",
        "year_df, X, Y = years[1:], past_values[1:], values[1:]"
      ],
      "execution_count": 0,
      "outputs": []
    },
    {
      "metadata": {
        "id": "HFikHISJbyPO",
        "colab_type": "code",
        "colab": {}
      },
      "cell_type": "code",
      "source": [
        "def train_test_split(rawx, xpo):\n",
        "    train_size=int(len(rawx)*0.80)\n",
        "    test_size=int(len(rawx)*0.20)\n",
        "    #print(train_size, test_size, len(rawx))\n",
        "    train_x, train_y = np.array(rawx[:train_size]), np.array(xpo[:train_size])\n",
        "    test_x, test_y = np.array(rawx[train_size:]), np.array(xpo[train_size:])\n",
        "    return train_x, train_y, test_x, test_y\n",
        "\n",
        "def get_params(script='train.py'):\n",
        "    xa=''\n",
        "    if script == 'train.py':\n",
        "        xa='[plot|ploth]'\n",
        "    try:\n",
        "        name, epochs, batches=sys.argv[1:4]\n",
        "    except ValueError:\n",
        "        print('Usage: %s model_name epochs batch_size %s' % (script, xa))\n",
        "        exit(1)\n",
        "    try:\n",
        "        plot=sys.argv[4]\n",
        "    except IndexError:\n",
        "        plot=False\n",
        "\n",
        "    return name, int(epochs), int(batches), plot"
      ],
      "execution_count": 0,
      "outputs": []
    },
    {
      "metadata": {
        "id": "qdhLRgRhY5ZW",
        "colab_type": "code",
        "colab": {}
      },
      "cell_type": "code",
      "source": [
        ""
      ],
      "execution_count": 0,
      "outputs": []
    },
    {
      "metadata": {
        "id": "CSKYFKvDS9s3",
        "colab_type": "code",
        "colab": {}
      },
      "cell_type": "code",
      "source": [
        "mparams=confs[name]\n",
        "model=mparams['model'](mparams['inputs'])"
      ],
      "execution_count": 0,
      "outputs": []
    },
    {
      "metadata": {
        "id": "hkK0VjXRbyL4",
        "colab_type": "code",
        "outputId": "a4d2599b-6c09-4ef7-d90b-f6dee09464f1",
        "colab": {
          "base_uri": "https://localhost:8080/",
          "height": 34
        }
      },
      "cell_type": "code",
      "source": [
        "from keras.models import Sequential, load_model\n",
        "from keras.layers import Dense\n",
        "\n",
        "import math\n",
        "import os\n",
        "import sys\n",
        "import pandas\n",
        "import pickle"
      ],
      "execution_count": 0,
      "outputs": [
        {
          "output_type": "stream",
          "text": [
            "Using TensorFlow backend.\n"
          ],
          "name": "stderr"
        }
      ]
    },
    {
      "metadata": {
        "id": "gWHCI4P_RNiI",
        "colab_type": "code",
        "colab": {}
      },
      "cell_type": "code",
      "source": [
        "train_x, train_y, test_x, test_y = train_test_split(X, Y)"
      ],
      "execution_count": 0,
      "outputs": []
    },
    {
      "metadata": {
        "id": "ocvGytiRbyIr",
        "colab_type": "code",
        "colab": {}
      },
      "cell_type": "code",
      "source": [
        "inputs = 1\n",
        "model = Sequential()\n",
        "model.add(Dense(1,input_dim = inputs, activation='relu'))\n",
        "model.add(Dense(1))"
      ],
      "execution_count": 0,
      "outputs": []
    },
    {
      "metadata": {
        "id": "gxP5PtOFt5D4",
        "colab_type": "code",
        "colab": {
          "base_uri": "https://localhost:8080/",
          "height": 392
        },
        "outputId": "08b405d9-56c1-4e51-db11-450dd1874bca"
      },
      "cell_type": "code",
      "source": [
        "name = 'cnn'\n",
        "epochs = 10\n",
        "batches = 2\n",
        "model.compile(loss='mean_squared_error', optimizer='adam', metrics=['mse','mape'])\n",
        "history=model.fit(train_x, train_y, verbose=2, epochs=epochs, batch_size=batches)\n"
      ],
      "execution_count": 32,
      "outputs": [
        {
          "output_type": "stream",
          "text": [
            "Epoch 1/10\n",
            " - 0s - loss: 1632981134781118720.0000 - mean_squared_error: 1632981134781118720.0000 - mean_absolute_percentage_error: 100.0000\n",
            "Epoch 2/10\n",
            " - 0s - loss: 1632981153433548032.0000 - mean_squared_error: 1632981153433548032.0000 - mean_absolute_percentage_error: 100.0000\n",
            "Epoch 3/10\n",
            " - 0s - loss: 1632981131835998208.0000 - mean_squared_error: 1632981131835998208.0000 - mean_absolute_percentage_error: 100.0000\n",
            "Epoch 4/10\n",
            " - 0s - loss: 1632981133799411712.0000 - mean_squared_error: 1632981133799411712.0000 - mean_absolute_percentage_error: 100.0000\n",
            "Epoch 5/10\n",
            " - 0s - loss: 1632981174049391104.0000 - mean_squared_error: 1632981174049391104.0000 - mean_absolute_percentage_error: 100.0000\n",
            "Epoch 6/10\n",
            " - 0s - loss: 1632981139689652736.0000 - mean_squared_error: 1632981139689652736.0000 - mean_absolute_percentage_error: 100.0000\n",
            "Epoch 7/10\n",
            " - 0s - loss: 1632981137726239232.0000 - mean_squared_error: 1632981137726239232.0000 - mean_absolute_percentage_error: 100.0000\n",
            "Epoch 8/10\n",
            " - 0s - loss: 1632981159323788800.0000 - mean_squared_error: 1632981159323788800.0000 - mean_absolute_percentage_error: 100.0000\n",
            "Epoch 9/10\n",
            " - 0s - loss: 1632981183866459136.0000 - mean_squared_error: 1632981183866459136.0000 - mean_absolute_percentage_error: 100.0000\n",
            "Epoch 10/10\n",
            " - 0s - loss: 1632981157360375296.0000 - mean_squared_error: 1632981157360375296.0000 - mean_absolute_percentage_error: 100.0000\n"
          ],
          "name": "stdout"
        }
      ]
    },
    {
      "metadata": {
        "id": "WscyZr4gfxfB",
        "colab_type": "code",
        "colab": {
          "base_uri": "https://localhost:8080/",
          "height": 212
        },
        "outputId": "68bae579-c048-4818-fdd1-f150c7f9a824"
      },
      "cell_type": "code",
      "source": [
        "model.summary()"
      ],
      "execution_count": 45,
      "outputs": [
        {
          "output_type": "stream",
          "text": [
            "_________________________________________________________________\n",
            "Layer (type)                 Output Shape              Param #   \n",
            "=================================================================\n",
            "dense_2 (Dense)              (None, 1)                 2         \n",
            "_________________________________________________________________\n",
            "dense_3 (Dense)              (None, 1)                 2         \n",
            "=================================================================\n",
            "Total params: 4\n",
            "Trainable params: 4\n",
            "Non-trainable params: 0\n",
            "_________________________________________________________________\n"
          ],
          "name": "stdout"
        }
      ]
    },
    {
      "metadata": {
        "id": "qNrLZW7ht5BA",
        "colab_type": "code",
        "colab": {}
      },
      "cell_type": "code",
      "source": [
        "# Save models and the training history for later use\n",
        "mname='/content/models/model-%s-%d-%d' % (name, epochs, batches)\n",
        "model.save(mname+'.h5')\n",
        "with open(mname+'-history.pickle', 'wb') as ms:\n",
        "    pickle.dump(history.history, ms)\n",
        "print()\n",
        "print('Model and its history saved in %s*' % mname)"
      ],
      "execution_count": 0,
      "outputs": []
    },
    {
      "metadata": {
        "id": "s5PGlCTkt494",
        "colab_type": "code",
        "colab": {
          "base_uri": "https://localhost:8080/",
          "height": 70
        },
        "outputId": "2344d669-1633-4693-8f4d-624a86c51be9"
      },
      "cell_type": "code",
      "source": [
        "title='%s (epochs=%d, batch_size=%d)' % (name, epochs, batches)\n",
        "# Test our model on both data that has been seen\n",
        "# (training data set) and unseen (test data set)\n",
        "print('Scores for %s' % title)\n",
        "\n",
        "train_score = model.evaluate(train_x, train_y, verbose=0)\n",
        "trscore='RMSE: %s MAPE: %.0f%%' % (\"{:,.0f}\".format(math.sqrt(train_score[0])), train_score[2])\n",
        "print('Train Score: %s' % trscore)\n",
        "\n",
        "\n",
        "test_score = model.evaluate(test_x, test_y, verbose=0)\n",
        "tscore='RMSE: %s MAPE: %.0f%%' % (\"{:,.0f}\".format(math.sqrt(test_score[0])), train_score[2])\n",
        "print('Test Score: %s' % tscore)"
      ],
      "execution_count": 37,
      "outputs": [
        {
          "output_type": "stream",
          "text": [
            "Scores for cnn (epochs=10, batch_size=2)\n",
            "Train Score: RMSE: 1,277,881,470 MAPE: 100%\n",
            "Test Score: RMSE: 3,151,623,686 MAPE: 100%\n"
          ],
          "name": "stdout"
        }
      ]
    },
    {
      "metadata": {
        "id": "FHHGfXewt47A",
        "colab_type": "code",
        "colab": {
          "base_uri": "https://localhost:8080/",
          "height": 72
        },
        "outputId": "4714d1e9-d7c7-4e8d-e2ff-2ebe8eb65986"
      },
      "cell_type": "code",
      "source": [
        "# Predict\n",
        "pred_list = []\n",
        "for each_y in Y:\n",
        "  y= np.expand_dims(each_y, 1)\n",
        "  pred = model.predict(y)\n",
        "  pred_list.append(pred[0][0])"
      ],
      "execution_count": 77,
      "outputs": [
        {
          "output_type": "stream",
          "text": [
            "/usr/local/lib/python3.6/dist-packages/ipykernel_launcher.py:3: DeprecationWarning: Both axis > a.ndim and axis < -a.ndim - 1 are deprecated and will raise an AxisError in the future.\n",
            "  This is separate from the ipykernel package so we can avoid doing imports until\n"
          ],
          "name": "stderr"
        }
      ]
    },
    {
      "metadata": {
        "id": "7RSSetDkt44I",
        "colab_type": "code",
        "colab": {}
      },
      "cell_type": "code",
      "source": [
        "! pip install plotnine \n",
        "from plotnine import *"
      ],
      "execution_count": 0,
      "outputs": []
    },
    {
      "metadata": {
        "id": "7RTl7uaebyFV",
        "colab_type": "code",
        "colab": {
          "base_uri": "https://localhost:8080/",
          "height": 197
        },
        "outputId": "310060a3-593c-4b4b-d7a8-773f4eac026e"
      },
      "cell_type": "code",
      "source": [
        "df = pd.DataFrame({'year':year_df,'Values1':pred_list,'Values2':Y})\n",
        "df.head()"
      ],
      "execution_count": 79,
      "outputs": [
        {
          "output_type": "execute_result",
          "data": {
            "text/html": [
              "<div>\n",
              "<style scoped>\n",
              "    .dataframe tbody tr th:only-of-type {\n",
              "        vertical-align: middle;\n",
              "    }\n",
              "\n",
              "    .dataframe tbody tr th {\n",
              "        vertical-align: top;\n",
              "    }\n",
              "\n",
              "    .dataframe thead th {\n",
              "        text-align: right;\n",
              "    }\n",
              "</style>\n",
              "<table border=\"1\" class=\"dataframe\">\n",
              "  <thead>\n",
              "    <tr style=\"text-align: right;\">\n",
              "      <th></th>\n",
              "      <th>year</th>\n",
              "      <th>Values1</th>\n",
              "      <th>Values2</th>\n",
              "    </tr>\n",
              "  </thead>\n",
              "  <tbody>\n",
              "    <tr>\n",
              "      <th>0</th>\n",
              "      <td>1974</td>\n",
              "      <td>0.0</td>\n",
              "      <td>421145216.0</td>\n",
              "    </tr>\n",
              "    <tr>\n",
              "      <th>1</th>\n",
              "      <td>1975</td>\n",
              "      <td>0.0</td>\n",
              "      <td>432276512.0</td>\n",
              "    </tr>\n",
              "    <tr>\n",
              "      <th>2</th>\n",
              "      <td>1976</td>\n",
              "      <td>0.0</td>\n",
              "      <td>471773408.0</td>\n",
              "    </tr>\n",
              "    <tr>\n",
              "      <th>3</th>\n",
              "      <td>1977</td>\n",
              "      <td>0.0</td>\n",
              "      <td>513269280.0</td>\n",
              "    </tr>\n",
              "    <tr>\n",
              "      <th>4</th>\n",
              "      <td>1978</td>\n",
              "      <td>0.0</td>\n",
              "      <td>576089984.0</td>\n",
              "    </tr>\n",
              "  </tbody>\n",
              "</table>\n",
              "</div>"
            ],
            "text/plain": [
              "   year  Values1      Values2\n",
              "0  1974      0.0  421145216.0\n",
              "1  1975      0.0  432276512.0\n",
              "2  1976      0.0  471773408.0\n",
              "3  1977      0.0  513269280.0\n",
              "4  1978      0.0  576089984.0"
            ]
          },
          "metadata": {
            "tags": []
          },
          "execution_count": 79
        }
      ]
    },
    {
      "metadata": {
        "id": "SKy6iKzQbx_3",
        "colab_type": "code",
        "colab": {
          "base_uri": "https://localhost:8080/",
          "height": 467
        },
        "outputId": "23acc1e7-8e45-4f88-de63-49adf469af33"
      },
      "cell_type": "code",
      "source": [
        "p = ggplot(df)+geom_line(aes(x=\"year\", y = \"Values1\"), color = 'r')+geom_line(aes(x=\"year\", y = \"Values2\"), color = 'b')\n",
        "\n",
        "p"
      ],
      "execution_count": 84,
      "outputs": [
        {
          "output_type": "display_data",
          "data": {
            "image/png": "[encoded data removed]",
            "text/plain": [
              "<Figure size 640x480 with 1 Axes>"
            ]
          },
          "metadata": {
            "tags": []
          }
        },
        {
          "output_type": "execute_result",
          "data": {
            "text/plain": [
              "<ggplot: (-9223363275247125269)>"
            ]
          },
          "metadata": {
            "tags": []
          },
          "execution_count": 84
        }
      ]
    },
    {
      "metadata": {
        "id": "E0HvJKWjbxuV",
        "colab_type": "code",
        "colab": {}
      },
      "cell_type": "code",
      "source": [
        ""
      ],
      "execution_count": 0,
      "outputs": []
    }
  ]
}
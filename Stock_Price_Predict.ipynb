{
  "nbformat": 4,
  "nbformat_minor": 0,
  "metadata": {
    "colab": {
      "name": "Stock_Price_Predict.ipynb",
      "version": "0.3.2",
      "provenance": [],
      "collapsed_sections": [],
      "toc_visible": true,
      "include_colab_link": true
    },
    "kernelspec": {
      "name": "python3",
      "display_name": "Python 3"
    },
    "accelerator": "GPU"
  },
  "cells": [
    {
      "cell_type": "markdown",
      "metadata": {
        "id": "view-in-github",
        "colab_type": "text"
      },
      "source": [
        "<a href=\"https://colab.research.google.com/github/BenjaminDKLuong/Colab_Notes/blob/master/Stock_Price_Predict.ipynb\" target=\"_parent\"><img src=\"https://colab.research.google.com/assets/colab-badge.svg\" alt=\"Open In Colab\"/></a>"
      ]
    },
    {
      "cell_type": "markdown",
      "metadata": {
        "id": "em-XD4QmOF3u",
        "colab_type": "text"
      },
      "source": [
        "# Stock Price Predict"
      ]
    },
    {
      "cell_type": "code",
      "metadata": {
        "id": "Tcn9rgwpOAmW",
        "colab_type": "code",
        "colab": {
          "base_uri": "https://localhost:8080/",
          "height": 123
        },
        "outputId": "09035afe-7261-4a72-8861-5ea64c698258"
      },
      "source": [
        "!git clone https://github.com/PacktPublishing/Real-World-Python-Deep-Learning-Projects.git"
      ],
      "execution_count": 1,
      "outputs": [
        {
          "output_type": "stream",
          "text": [
            "Cloning into 'Real-World-Python-Deep-Learning-Projects'...\n",
            "remote: Enumerating objects: 13503, done.\u001b[K\n",
            "remote: Total 13503 (delta 0), reused 0 (delta 0), pack-reused 13503\u001b[K\n",
            "Receiving objects: 100% (13503/13503), 178.97 MiB | 34.62 MiB/s, done.\n",
            "Resolving deltas: 100% (85/85), done.\n",
            "Checking out files: 100% (13472/13472), done.\n"
          ],
          "name": "stdout"
        }
      ]
    },
    {
      "cell_type": "code",
      "metadata": {
        "id": "KEUR3khdOHLc",
        "colab_type": "code",
        "colab": {}
      },
      "source": [
        "# change working directory to new location\n",
        "import os\n",
        "os.chdir(\"/content/Real-World-Python-Deep-Learning-Projects/Section 5 Code/source\")\n"
      ],
      "execution_count": 0,
      "outputs": []
    },
    {
      "cell_type": "code",
      "metadata": {
        "id": "dINNvwcZOHIB",
        "colab_type": "code",
        "colab": {
          "base_uri": "https://localhost:8080/",
          "height": 54
        },
        "outputId": "6945400f-437c-4bda-c164-5ec7d55d7734"
      },
      "source": [
        "# check current working directory\n",
        "%pwd"
      ],
      "execution_count": 3,
      "outputs": [
        {
          "output_type": "execute_result",
          "data": {
            "text/plain": [
              "'/content/Real-World-Python-Deep-Learning-Projects/Section 5 Code/source'"
            ]
          },
          "metadata": {
            "tags": []
          },
          "execution_count": 3
        }
      ]
    },
    {
      "cell_type": "markdown",
      "metadata": {
        "id": "AqLcwQY1OcS-",
        "colab_type": "text"
      },
      "source": [
        "## Data Process"
      ]
    },
    {
      "cell_type": "code",
      "metadata": {
        "id": "QlXMtbKdOHE6",
        "colab_type": "code",
        "colab": {}
      },
      "source": [
        "import pandas\n",
        "import numpy as np\n",
        "from matplotlib import pyplot\n",
        "\n",
        "def get_raw_xy(data):\n",
        "    data=data.drop(columns=['Date','Adj Close'])\n",
        "    values=data.values\n",
        "    # Each column number match a specific metric:\n",
        "    # Open=0,High=1,Low=2,Close=3,Volume=4\n",
        "    return values[:, [0,1,2,3,4]], values[:, 3]\n",
        "\n",
        "def train_test_split(X, Y, trs_len=0.80):\n",
        "    \"\"\"\n",
        "    Split both X and Y into train and test set.\n",
        "    trs_len - how much data should we use for training?\n",
        "              by default it's 0.80 meaning 80%, the remining\n",
        "              20% of the data will be used for testing.\n",
        "    \"\"\"\n",
        "    lx=len(X)\n",
        "    trs=int(lx*trs_len)\n",
        "    train_x, train_y = X[:trs], Y[:trs]\n",
        "    test_x, test_y = X[trs:], Y[trs:]\n",
        "    return train_x, train_y, test_x, test_y\n",
        "\n",
        "# This function remove the first value, add None to the end \n",
        "# to keep the same length\n",
        "def shift_y(values): \n",
        "    shifted_y=list(values)\n",
        "    shifted_y.pop(0)\n",
        "    shifted_y.append(None)\n",
        "    return shifted_y\n",
        "\n",
        "def get_data(f='data/stock_prices.csv'):\n",
        "    d=pandas.read_csv(f)\n",
        "    x,y=get_raw_xy(d)\n",
        "    yy=shift_y(y)\n",
        "    return x[:-1], yy[:-1]\n",
        "\n",
        "def prep_data(x, y):\n",
        "    train_x, train_y, test_x, test_y = train_test_split(x, y)\n",
        "    # We need one more \"dimension\" (we need to put our values\n",
        "    # into on more list) to our x values\n",
        "    train_x=np.array(np.expand_dims(train_x, axis=1))\n",
        "    train_y=np.array(train_y)\n",
        "    test_x=np.array(np.expand_dims(test_x, axis=1))\n",
        "    test_y=np.array(test_y)\n",
        "\n",
        "    print(train_x.shape, train_y.shape, test_x.shape, test_y.shape)\n",
        "    return train_x, train_y, test_x, test_y\n",
        "\n"
      ],
      "execution_count": 0,
      "outputs": []
    },
    {
      "cell_type": "code",
      "metadata": {
        "id": "hl3XsmrVtdzE",
        "colab_type": "code",
        "colab": {
          "base_uri": "https://localhost:8080/",
          "height": 176
        },
        "outputId": "a8bc5969-8251-4d57-c370-4dcd6dd74d37"
      },
      "source": [
        "\n",
        "x,y=get_data()\n",
        "print('Data before preparation')\n",
        "print(np.array(x).shape,np.array(y).shape)\n",
        "print(x[0],y[0])\n",
        "\n",
        "print()\n",
        "print('Data after preparation')\n",
        "train_x, train_y, test_x, test_y=prep_data(x, y)\n",
        "print(train_x[0],train_y[0])\n"
      ],
      "execution_count": 30,
      "outputs": [
        {
          "output_type": "stream",
          "text": [
            "Data before preparation\n",
            "(250, 5) (250,)\n",
            "[3.53799988e+02 3.55489990e+02 3.45890015e+02 3.49589996e+02\n",
            " 3.83510000e+06] 344.52999900000003\n",
            "\n",
            "Data after preparation\n",
            "(200, 1, 5) (200,) (50, 1, 5) (50,)\n",
            "[[3.53799988e+02 3.55489990e+02 3.45890015e+02 3.49589996e+02\n",
            "  3.83510000e+06]] 344.52999900000003\n"
          ],
          "name": "stdout"
        }
      ]
    },
    {
      "cell_type": "code",
      "metadata": {
        "id": "5j3vwWkh5JGj",
        "colab_type": "code",
        "colab": {
          "base_uri": "https://localhost:8080/",
          "height": 322
        },
        "outputId": "b09031c8-82e5-4a57-96d4-4e201440701b"
      },
      "source": [
        "lx=len(x)\n",
        "trs=int(lx*.8)\n",
        "train_x_plotting= x[:trs]\n",
        "test_x_plotting= x[trs:]\n",
        "\n",
        "# Prepare data for plotting.\n",
        "p_tx=list(train_x_plotting[:, 3])+[None]*(len(test_x_plotting))\n",
        "p_ttx=([None]*(len(train_x_plotting)-1))+list(train_x_plotting[:, 3])[-1:]+list(test_x_plotting[:, 3])\n",
        "\n",
        "# Plot closing prices for each day.\n",
        "pyplot.figure(figsize=(8,5))\n",
        "pyplot.plot(p_tx, label='train_x')\n",
        "pyplot.plot(p_ttx, label='test_x')\n",
        "pyplot.legend()\n",
        "pyplot.show()"
      ],
      "execution_count": 31,
      "outputs": [
        {
          "output_type": "display_data",
          "data": {
            "image/png": "[encoded data removed]",
            "text/plain": [
              "<Figure size 576x360 with 1 Axes>"
            ]
          },
          "metadata": {
            "tags": []
          }
        }
      ]
    },
    {
      "cell_type": "markdown",
      "metadata": {
        "id": "U-sJnfBJOiaT",
        "colab_type": "text"
      },
      "source": [
        "## Train"
      ]
    },
    {
      "cell_type": "code",
      "metadata": {
        "id": "tHjeljzHOHB5",
        "colab_type": "code",
        "colab": {}
      },
      "source": [
        "from keras.models import Sequential, load_model\n",
        "from keras.layers import Dense, LSTM\n",
        "\n",
        "import math\n",
        "import os\n",
        "import sys\n",
        "\n",
        "name = 'default'\n",
        "input_shape = train_x.shape[1:]\n",
        "epochs = 100\n",
        "batches = 5 #We have to choose batch size can be divided by training set samples(200 in this case) AND testset samples (50 in this case)\n",
        "\n",
        "model= Sequential()\n",
        "model.add(LSTM(60, input_shape=input_shape, stateful=True, batch_input_shape=(batches, input_shape[0], input_shape[1])))\n",
        "model.add(Dense(1))\n",
        "model.compile(loss='mean_squared_error',optimizer='adam',metrics=['mse','mape'])\n",
        "history = model.fit(train_x,train_y,verbose=2,epochs=epochs, batch_size=batches, validation_data=(test_x, test_y), shuffle=False)\n",
        "\n",
        "# save model\n",
        "mname='models/model-%s-%d-%d' % (name, epochs, batches)\n",
        "model.save(mname+'.h5')\n",
        "\n"
      ],
      "execution_count": 0,
      "outputs": []
    },
    {
      "cell_type": "code",
      "metadata": {
        "id": "359Op_Jd9rN6",
        "colab_type": "code",
        "colab": {
          "base_uri": "https://localhost:8080/",
          "height": 70
        },
        "outputId": "9d631c83-879e-446d-b7a6-a5b60eef1eaa"
      },
      "source": [
        "train_score = model.evaluate(train_x,train_y, verbose=0,batch_size=batches)\n",
        "trainscore = 'RMSE: $%s MAPE: %.0f%%' % (\"{:,.0f}\".format(math.sqrt(train_score[0])),train_score[2])\n",
        "print('Train Score: %s' % trainscore)\n",
        "\n",
        "print()\n",
        "test_score = model.evaluate(test_x, test_y, verbose=0, batch_size=batches)\n",
        "tscore='RMSE: $%s MAPE: %.0f%%' % (\"{:,.0f}\".format(math.sqrt(test_score[0])), test_score[2])\n",
        "print('Test Score: %s' % tscore)"
      ],
      "execution_count": 35,
      "outputs": [
        {
          "output_type": "stream",
          "text": [
            "Train Score: RMSE: $269 MAPE: 83%\n",
            "\n",
            "Test Score: RMSE: $270 MAPE: 83%\n"
          ],
          "name": "stdout"
        }
      ]
    },
    {
      "cell_type": "code",
      "metadata": {
        "id": "d3lHg3R5_1YS",
        "colab_type": "code",
        "colab": {
          "base_uri": "https://localhost:8080/",
          "height": 34
        },
        "outputId": "3d70d86b-170d-49a6-f831-895e526643f8"
      },
      "source": [
        "test_score"
      ],
      "execution_count": 36,
      "outputs": [
        {
          "output_type": "execute_result",
          "data": {
            "text/plain": [
              "[72820.37265625, 72820.37265625, 82.90941162109375]"
            ]
          },
          "metadata": {
            "tags": []
          },
          "execution_count": 36
        }
      ]
    },
    {
      "cell_type": "code",
      "metadata": {
        "id": "NM921lm2AQrL",
        "colab_type": "code",
        "colab": {
          "base_uri": "https://localhost:8080/",
          "height": 54
        },
        "outputId": "3da8c381-78a4-4bac-a728-2a28757ceef7"
      },
      "source": [
        "history.history.keys()"
      ],
      "execution_count": 42,
      "outputs": [
        {
          "output_type": "execute_result",
          "data": {
            "text/plain": [
              "dict_keys(['val_loss', 'val_mean_squared_error', 'val_mean_absolute_percentage_error', 'loss', 'mean_squared_error', 'mean_absolute_percentage_error'])"
            ]
          },
          "metadata": {
            "tags": []
          },
          "execution_count": 42
        }
      ]
    },
    {
      "cell_type": "code",
      "metadata": {
        "id": "k7hpefk29w5d",
        "colab_type": "code",
        "colab": {
          "base_uri": "https://localhost:8080/",
          "height": 268
        },
        "outputId": "cd3a9c3a-4428-42b5-8326-2c21b865c341"
      },
      "source": [
        "pyplot.plot([ math.sqrt(l) for l in history.history['loss'] ], label='train RMSE ($)')\n",
        "pyplot.plot([ math.sqrt(l) for l in history.history['val_loss'] ], label='test RMSE ($)')\n",
        "pyplot.legend()\n",
        "pyplot.show()"
      ],
      "execution_count": 43,
      "outputs": [
        {
          "output_type": "display_data",
          "data": {
            "image/png": "[encoded data removed]",
            "text/plain": [
              "<Figure size 432x288 with 1 Axes>"
            ]
          },
          "metadata": {
            "tags": []
          }
        }
      ]
    },
    {
      "cell_type": "code",
      "metadata": {
        "id": "ewQ8QoXABpiI",
        "colab_type": "code",
        "colab": {
          "base_uri": "https://localhost:8080/",
          "height": 268
        },
        "outputId": "b1c5319a-8fde-4f8c-dabc-7bd09f7192f1"
      },
      "source": [
        "pyplot.plot([l for l in history.history['mean_squared_error'] ], label='train MSE ($)')\n",
        "pyplot.plot([l for l in history.history['val_mean_squared_error'] ], label='test MSE ($)')\n",
        "pyplot.legend()\n",
        "pyplot.show()"
      ],
      "execution_count": 45,
      "outputs": [
        {
          "output_type": "display_data",
          "data": {
            "image/png": "[encoded data removed]",
            "text/plain": [
              "<Figure size 432x288 with 1 Axes>"
            ]
          },
          "metadata": {
            "tags": []
          }
        }
      ]
    },
    {
      "cell_type": "code",
      "metadata": {
        "id": "olpeS6JL-FZm",
        "colab_type": "code",
        "colab": {
          "base_uri": "https://localhost:8080/",
          "height": 268
        },
        "outputId": "ce6b472e-93d2-4a5a-a0b8-5a4beb84663f"
      },
      "source": [
        "pyplot.plot(history.history['mean_absolute_percentage_error'], label='train mape')\n",
        "pyplot.plot(history.history['val_mean_absolute_percentage_error'], label='test mape')\n",
        "pyplot.legend()\n",
        "pyplot.show()\n"
      ],
      "execution_count": 44,
      "outputs": [
        {
          "output_type": "display_data",
          "data": {
            "image/png": "[encoded data removed]",
            "text/plain": [
              "<Figure size 432x288 with 1 Axes>"
            ]
          },
          "metadata": {
            "tags": []
          }
        }
      ]
    },
    {
      "cell_type": "markdown",
      "metadata": {
        "id": "fAhL6XmbH5Rp",
        "colab_type": "text"
      },
      "source": [
        "### Look like we need to train the model more (more epochs or more layers in the model) because the rmse or mape still decreases, not yet convergence."
      ]
    },
    {
      "cell_type": "markdown",
      "metadata": {
        "id": "HZZPcKQ5OkKx",
        "colab_type": "text"
      },
      "source": [
        "## Predict"
      ]
    },
    {
      "cell_type": "code",
      "metadata": {
        "id": "qpp16ietOG2h",
        "colab_type": "code",
        "colab": {
          "base_uri": "https://localhost:8080/",
          "height": 426
        },
        "outputId": "e45ea011-f7bd-48a4-a86e-f99f7c8332b2"
      },
      "source": [
        "from keras.models import Sequential, load_model\n",
        "\n",
        "name = 'default'\n",
        "input_shape = train_x.shape[1:]\n",
        "epochs = 205\n",
        "batches = 1 \n",
        "\n",
        "mname='models/model-%s-%d-%d.h5' % (name, epochs, batches)\n",
        "\n",
        "# Load a better model\n",
        "if os.path.exists(mname):\n",
        "  model=load_model(mname)\n",
        "  print('Model loaded!')\n",
        "else:\n",
        "  print(\"Can't find %s model, train it first using 'train.py %s %d %d'\" % (mname, name, epochs, batches))\n",
        "\n",
        "\n",
        "to_predict=[[296.94,298.19,288.00,288.95,8350500], 280.74]\n",
        "p=np.array(to_predict[0])\n",
        "p=np.reshape(p,(batches,input_shape[0], input_shape[1])) # same as when we create LSTM layer\n",
        "\n",
        "# true price\n",
        "c=to_predict[0][1]\n",
        "\n",
        "x=model.predict(p,batch_size=batches)\n",
        "\n",
        "# We have just one prediction.\n",
        "x=x[0][0]\n",
        "print('Predicted $%.2f, actual $%.2f, error $%.2f (%.2f%%)' % (x, c, x-c, abs((x-c)*100/c)))\n",
        "\n"
      ],
      "execution_count": 58,
      "outputs": [
        {
          "output_type": "stream",
          "text": [
            "Model loaded!\n"
          ],
          "name": "stdout"
        },
        {
          "output_type": "error",
          "ename": "ValueError",
          "evalue": "ignored",
          "traceback": [
            "\u001b[0;31m---------------------------------------------------------------------------\u001b[0m",
            "\u001b[0;31mValueError\u001b[0m                                Traceback (most recent call last)",
            "\u001b[0;32m<ipython-input-58-7874226a7787>\u001b[0m in \u001b[0;36m<module>\u001b[0;34m()\u001b[0m\n\u001b[1;32m     23\u001b[0m \u001b[0mc\u001b[0m\u001b[0;34m=\u001b[0m\u001b[0mto_predict\u001b[0m\u001b[0;34m[\u001b[0m\u001b[0;36m0\u001b[0m\u001b[0;34m]\u001b[0m\u001b[0;34m[\u001b[0m\u001b[0;36m1\u001b[0m\u001b[0;34m]\u001b[0m\u001b[0;34m\u001b[0m\u001b[0;34m\u001b[0m\u001b[0m\n\u001b[1;32m     24\u001b[0m \u001b[0;34m\u001b[0m\u001b[0m\n\u001b[0;32m---> 25\u001b[0;31m \u001b[0mx\u001b[0m\u001b[0;34m=\u001b[0m\u001b[0mmodel\u001b[0m\u001b[0;34m.\u001b[0m\u001b[0mpredict\u001b[0m\u001b[0;34m(\u001b[0m\u001b[0mp\u001b[0m\u001b[0;34m,\u001b[0m\u001b[0mbatch_size\u001b[0m\u001b[0;34m=\u001b[0m\u001b[0mbatches\u001b[0m\u001b[0;34m)\u001b[0m\u001b[0;34m\u001b[0m\u001b[0;34m\u001b[0m\u001b[0m\n\u001b[0m\u001b[1;32m     26\u001b[0m \u001b[0;34m\u001b[0m\u001b[0m\n\u001b[1;32m     27\u001b[0m \u001b[0;31m# We have just one prediction.\u001b[0m\u001b[0;34m\u001b[0m\u001b[0;34m\u001b[0m\u001b[0;34m\u001b[0m\u001b[0m\n",
            "\u001b[0;32m/usr/local/lib/python3.6/dist-packages/keras/engine/training.py\u001b[0m in \u001b[0;36mpredict\u001b[0;34m(self, x, batch_size, verbose, steps)\u001b[0m\n\u001b[1;32m   1147\u001b[0m                              'argument.')\n\u001b[1;32m   1148\u001b[0m         \u001b[0;31m# Validate user data.\u001b[0m\u001b[0;34m\u001b[0m\u001b[0;34m\u001b[0m\u001b[0;34m\u001b[0m\u001b[0m\n\u001b[0;32m-> 1149\u001b[0;31m         \u001b[0mx\u001b[0m\u001b[0;34m,\u001b[0m \u001b[0m_\u001b[0m\u001b[0;34m,\u001b[0m \u001b[0m_\u001b[0m \u001b[0;34m=\u001b[0m \u001b[0mself\u001b[0m\u001b[0;34m.\u001b[0m\u001b[0m_standardize_user_data\u001b[0m\u001b[0;34m(\u001b[0m\u001b[0mx\u001b[0m\u001b[0;34m)\u001b[0m\u001b[0;34m\u001b[0m\u001b[0;34m\u001b[0m\u001b[0m\n\u001b[0m\u001b[1;32m   1150\u001b[0m         \u001b[0;32mif\u001b[0m \u001b[0mself\u001b[0m\u001b[0;34m.\u001b[0m\u001b[0mstateful\u001b[0m\u001b[0;34m:\u001b[0m\u001b[0;34m\u001b[0m\u001b[0;34m\u001b[0m\u001b[0m\n\u001b[1;32m   1151\u001b[0m             \u001b[0;32mif\u001b[0m \u001b[0mx\u001b[0m\u001b[0;34m[\u001b[0m\u001b[0;36m0\u001b[0m\u001b[0;34m]\u001b[0m\u001b[0;34m.\u001b[0m\u001b[0mshape\u001b[0m\u001b[0;34m[\u001b[0m\u001b[0;36m0\u001b[0m\u001b[0;34m]\u001b[0m \u001b[0;34m>\u001b[0m \u001b[0mbatch_size\u001b[0m \u001b[0;32mand\u001b[0m \u001b[0mx\u001b[0m\u001b[0;34m[\u001b[0m\u001b[0;36m0\u001b[0m\u001b[0;34m]\u001b[0m\u001b[0;34m.\u001b[0m\u001b[0mshape\u001b[0m\u001b[0;34m[\u001b[0m\u001b[0;36m0\u001b[0m\u001b[0;34m]\u001b[0m \u001b[0;34m%\u001b[0m \u001b[0mbatch_size\u001b[0m \u001b[0;34m!=\u001b[0m \u001b[0;36m0\u001b[0m\u001b[0;34m:\u001b[0m\u001b[0;34m\u001b[0m\u001b[0;34m\u001b[0m\u001b[0m\n",
            "\u001b[0;32m/usr/local/lib/python3.6/dist-packages/keras/engine/training.py\u001b[0m in \u001b[0;36m_standardize_user_data\u001b[0;34m(self, x, y, sample_weight, class_weight, check_array_lengths, batch_size)\u001b[0m\n\u001b[1;32m    749\u001b[0m             \u001b[0mfeed_input_shapes\u001b[0m\u001b[0;34m,\u001b[0m\u001b[0;34m\u001b[0m\u001b[0;34m\u001b[0m\u001b[0m\n\u001b[1;32m    750\u001b[0m             \u001b[0mcheck_batch_axis\u001b[0m\u001b[0;34m=\u001b[0m\u001b[0;32mFalse\u001b[0m\u001b[0;34m,\u001b[0m  \u001b[0;31m# Don't enforce the batch size.\u001b[0m\u001b[0;34m\u001b[0m\u001b[0;34m\u001b[0m\u001b[0m\n\u001b[0;32m--> 751\u001b[0;31m             exception_prefix='input')\n\u001b[0m\u001b[1;32m    752\u001b[0m \u001b[0;34m\u001b[0m\u001b[0m\n\u001b[1;32m    753\u001b[0m         \u001b[0;32mif\u001b[0m \u001b[0my\u001b[0m \u001b[0;32mis\u001b[0m \u001b[0;32mnot\u001b[0m \u001b[0;32mNone\u001b[0m\u001b[0;34m:\u001b[0m\u001b[0;34m\u001b[0m\u001b[0;34m\u001b[0m\u001b[0m\n",
            "\u001b[0;32m/usr/local/lib/python3.6/dist-packages/keras/engine/training_utils.py\u001b[0m in \u001b[0;36mstandardize_input_data\u001b[0;34m(data, names, shapes, check_batch_axis, exception_prefix)\u001b[0m\n\u001b[1;32m    136\u001b[0m                             \u001b[0;34m': expected '\u001b[0m \u001b[0;34m+\u001b[0m \u001b[0mnames\u001b[0m\u001b[0;34m[\u001b[0m\u001b[0mi\u001b[0m\u001b[0;34m]\u001b[0m \u001b[0;34m+\u001b[0m \u001b[0;34m' to have shape '\u001b[0m \u001b[0;34m+\u001b[0m\u001b[0;34m\u001b[0m\u001b[0;34m\u001b[0m\u001b[0m\n\u001b[1;32m    137\u001b[0m                             \u001b[0mstr\u001b[0m\u001b[0;34m(\u001b[0m\u001b[0mshape\u001b[0m\u001b[0;34m)\u001b[0m \u001b[0;34m+\u001b[0m \u001b[0;34m' but got array with shape '\u001b[0m \u001b[0;34m+\u001b[0m\u001b[0;34m\u001b[0m\u001b[0;34m\u001b[0m\u001b[0m\n\u001b[0;32m--> 138\u001b[0;31m                             str(data_shape))\n\u001b[0m\u001b[1;32m    139\u001b[0m     \u001b[0;32mreturn\u001b[0m \u001b[0mdata\u001b[0m\u001b[0;34m\u001b[0m\u001b[0;34m\u001b[0m\u001b[0m\n\u001b[1;32m    140\u001b[0m \u001b[0;34m\u001b[0m\u001b[0m\n",
            "\u001b[0;31mValueError\u001b[0m: Error when checking input: expected lstm_1_input to have shape (1, 4) but got array with shape (1, 5)"
          ]
        }
      ]
    },
    {
      "cell_type": "code",
      "metadata": {
        "id": "Ndg3LuBnKBDa",
        "colab_type": "code",
        "colab": {
          "base_uri": "https://localhost:8080/",
          "height": 34
        },
        "outputId": "44014871-2d72-45a5-fdf3-2c62a8c52118"
      },
      "source": [
        "to_predict=[[296.94,298.19,288.00,288.95,8350500], 280.74]\n",
        "p=np.array(to_predict[0])\n",
        "p"
      ],
      "execution_count": 51,
      "outputs": [
        {
          "output_type": "execute_result",
          "data": {
            "text/plain": [
              "array([2.9694e+02, 2.9819e+02, 2.8800e+02, 2.8895e+02, 8.3505e+06])"
            ]
          },
          "metadata": {
            "tags": []
          },
          "execution_count": 51
        }
      ]
    },
    {
      "cell_type": "code",
      "metadata": {
        "id": "8Qts0KNnKDgq",
        "colab_type": "code",
        "colab": {
          "base_uri": "https://localhost:8080/",
          "height": 34
        },
        "outputId": "ec7e3ff1-e8e0-4bc3-9001-88a6f35bf901"
      },
      "source": [
        "np.reshape(p,(1,input_shape[0], input_shape[1]))"
      ],
      "execution_count": 54,
      "outputs": [
        {
          "output_type": "execute_result",
          "data": {
            "text/plain": [
              "array([[[2.9694e+02, 2.9819e+02, 2.8800e+02, 2.8895e+02, 8.3505e+06]]])"
            ]
          },
          "metadata": {
            "tags": []
          },
          "execution_count": 54
        }
      ]
    },
    {
      "cell_type": "code",
      "metadata": {
        "id": "lgn9TK4jKILZ",
        "colab_type": "code",
        "colab": {
          "base_uri": "https://localhost:8080/",
          "height": 34
        },
        "outputId": "f3cb001c-adfd-44a3-80c2-60df0661f849"
      },
      "source": [
        "np.reshape(p,(1,input_shape[0], input_shape[1])).shape"
      ],
      "execution_count": 55,
      "outputs": [
        {
          "output_type": "execute_result",
          "data": {
            "text/plain": [
              "(1, 1, 5)"
            ]
          },
          "metadata": {
            "tags": []
          },
          "execution_count": 55
        }
      ]
    },
    {
      "cell_type": "code",
      "metadata": {
        "id": "Kr4kD6nFKzKc",
        "colab_type": "code",
        "colab": {}
      },
      "source": [
        ""
      ],
      "execution_count": 0,
      "outputs": []
    }
  ]
}
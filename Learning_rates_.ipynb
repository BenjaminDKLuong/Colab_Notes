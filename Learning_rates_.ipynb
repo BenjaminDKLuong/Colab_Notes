{
  "nbformat": 4,
  "nbformat_minor": 0,
  "metadata": {
    "colab": {
      "name": "Learning_rates .ipynb",
      "version": "0.3.2",
      "provenance": [],
      "collapsed_sections": [],
      "include_colab_link": true
    },
    "kernelspec": {
      "name": "python3",
      "display_name": "Python 3"
    },
    "accelerator": "GPU"
  },
  "cells": [
    {
      "cell_type": "markdown",
      "metadata": {
        "id": "view-in-github",
        "colab_type": "text"
      },
      "source": [
        "<a href=\"https://colab.research.google.com/github/BenjaminDKLuong/Colab_Notes/blob/master/Learning_rates_.ipynb\" target=\"_parent\"><img src=\"https://colab.research.google.com/assets/colab-badge.svg\" alt=\"Open In Colab\"/></a>"
      ]
    },
    {
      "cell_type": "code",
      "metadata": {
        "id": "vkNbcx8ZMp6F",
        "colab_type": "code",
        "colab": {
          "base_uri": "https://localhost:8080/",
          "height": 34
        },
        "outputId": "8e1d688c-beea-4ead-c837-18e9f7e270a2"
      },
      "source": [
        "\n",
        "import math\n",
        "\n",
        "from keras.models import Sequential\n",
        "from keras.layers import Dense, Dropout, Activation, Flatten\n",
        "from keras.layers import Conv2D, MaxPooling2D\n",
        "from keras.optimizers import SGD\n",
        "from sklearn.model_selection import train_test_split\n",
        "from keras.utils import to_categorical\n",
        "from keras.callbacks import EarlyStopping, TensorBoard, ModelCheckpoint, LearningRateScheduler, Callback\n",
        "from keras import backend as K\n",
        "\n",
        "from keras.datasets import cifar10\n"
      ],
      "execution_count": 1,
      "outputs": [
        {
          "output_type": "stream",
          "text": [
            "Using TensorFlow backend.\n"
          ],
          "name": "stderr"
        }
      ]
    },
    {
      "cell_type": "code",
      "metadata": {
        "id": "1v9mEfE1PXQK",
        "colab_type": "code",
        "colab": {
          "base_uri": "https://localhost:8080/",
          "height": 52
        },
        "outputId": "584d09f2-297e-4894-812a-b5adfc8ea7cf"
      },
      "source": [
        "SEED =2017\n",
        "\n",
        "(X_train, y_train), (X_test, y_test) = cifar10.load_data()\n",
        "validation_split = 0.1\n",
        "X_train, X_val, y_train, y_val = train_test_split(X_train, y_train, test_size=validation_split, random_state=SEED)\n",
        "\n",
        "X_train = X_train.astype('float32')\n",
        "X_train /=255.\n",
        "X_val = X_val.astype('float32')\n",
        "X_val /=255.\n",
        "X_test = X_test.astype('float32')\n",
        "X_test /=255.\n",
        "\n",
        "n_classes = 10\n",
        "y_train = to_categorical(y_train, n_classes)\n",
        "y_val = to_categorical(y_val, n_classes)\n",
        "y_test = to_categorical(y_test, n_classes)"
      ],
      "execution_count": 2,
      "outputs": [
        {
          "output_type": "stream",
          "text": [
            "Downloading data from https://www.cs.toronto.edu/~kriz/cifar-10-python.tar.gz\n",
            "170500096/170498071 [==============================] - 43s 0us/step\n"
          ],
          "name": "stdout"
        }
      ]
    },
    {
      "cell_type": "code",
      "metadata": {
        "id": "zPrjwR1CPZKg",
        "colab_type": "code",
        "colab": {}
      },
      "source": [
        "learning_rate_schedule = {0: '0.1', 10: '0.01', 25: '0.0025'}\n",
        "\n",
        "class get_learning_rate(Callback):\n",
        "    def on_epoch_end(self, epoch, logs={}):\n",
        "        optimizer = self.model.optimizer\n",
        "        if epoch in learning_rate_schedule:\n",
        "            K.set_value(optimizer.lr, learning_rate_schedule[epoch])\n",
        "        lr = K.eval(optimizer.lr)\n",
        "        print('\\nlr: {:.4f}'.format(lr))"
      ],
      "execution_count": 0,
      "outputs": []
    },
    {
      "cell_type": "code",
      "metadata": {
        "id": "_2Z_gj0NPcSL",
        "colab_type": "code",
        "colab": {}
      },
      "source": [
        "callbacks =[EarlyStopping(monitor='val_acc', patience=5, verbose=2),\n",
        "            ModelCheckpoint('checkpoints/{epoch:02d}.h5', \n",
        "            save_best_only=True),\n",
        "            TensorBoard('~/notebooks/logs-lrscheduler'),\n",
        "            get_learning_rate()\n",
        "            ]"
      ],
      "execution_count": 0,
      "outputs": []
    },
    {
      "cell_type": "code",
      "metadata": {
        "id": "s19OYdr-Peg8",
        "colab_type": "code",
        "colab": {
          "base_uri": "https://localhost:8080/",
          "height": 143
        },
        "outputId": "240997ea-6439-4e12-f6e0-3824bb54d795"
      },
      "source": [
        "model = Sequential()\n",
        "model.add(Conv2D(32, (3, 3), padding='same', input_shape=X_train.shape[1:]))\n",
        "model.add(Activation('relu'))\n",
        "model.add(Conv2D(32, (3, 3)))\n",
        "model.add(Activation('relu'))\n",
        "model.add(MaxPooling2D(pool_size=(2, 2)))\n",
        "model.add(Dropout(0.25))\n",
        "\n",
        "model.add(Conv2D(64, (3, 3), padding='same'))\n",
        "model.add(Activation('relu'))\n",
        "model.add(Conv2D(64, (3, 3)))\n",
        "model.add(Activation('relu'))\n",
        "model.add(MaxPooling2D(pool_size=(2, 2)))\n",
        "model.add(Dropout(0.25))\n",
        "\n",
        "model.add(Flatten())\n",
        "model.add(Dense(512))\n",
        "model.add(Activation('relu'))\n",
        "model.add(Dropout(0.5))\n",
        "model.add(Dense(n_classes))\n",
        "model.add(Activation('softmax'))\n",
        "\n",
        "optimizer = SGD()\n",
        "model.compile(loss='categorical_crossentropy',optimizer=optimizer, metrics=['accuracy'])"
      ],
      "execution_count": 5,
      "outputs": [
        {
          "output_type": "stream",
          "text": [
            "WARNING:tensorflow:From /usr/local/lib/python3.6/dist-packages/tensorflow/python/framework/op_def_library.py:263: colocate_with (from tensorflow.python.framework.ops) is deprecated and will be removed in a future version.\n",
            "Instructions for updating:\n",
            "Colocations handled automatically by placer.\n",
            "WARNING:tensorflow:From /usr/local/lib/python3.6/dist-packages/keras/backend/tensorflow_backend.py:3445: calling dropout (from tensorflow.python.ops.nn_ops) with keep_prob is deprecated and will be removed in a future version.\n",
            "Instructions for updating:\n",
            "Please use `rate` instead of `keep_prob`. Rate should be set to `rate = 1 - keep_prob`.\n"
          ],
          "name": "stdout"
        }
      ]
    },
    {
      "cell_type": "code",
      "metadata": {
        "id": "LbAEpOmfuzs9",
        "colab_type": "code",
        "colab": {}
      },
      "source": [
        "import os\n",
        "\n",
        "dirName = \"/content/checkpoints\"\n",
        "try:\n",
        "# Create target Directory\n",
        "\tos.mkdir(dirName)\n",
        "\tprint(\"Directory \" , dirName ,  \" Created \") \n",
        "except FileExistsError:\n",
        "print(\"Directory \" , dirName ,  \" already exists\")"
      ],
      "execution_count": 0,
      "outputs": []
    },
    {
      "cell_type": "code",
      "metadata": {
        "id": "nWjzh5BQPhhK",
        "colab_type": "code",
        "colab": {
          "base_uri": "https://localhost:8080/",
          "height": 1476
        },
        "outputId": "2b262de5-8637-4d17-8c1e-d51f210c4721"
      },
      "source": [
        "n_epochs = 20\n",
        "batch_size = 128\n",
        "\n",
        "history = model.fit(X_train, y_train, epochs=n_epochs, batch_size=batch_size, \n",
        "          validation_data=[X_val, y_val],\n",
        "          verbose = 1, callbacks=callbacks)"
      ],
      "execution_count": 10,
      "outputs": [
        {
          "output_type": "stream",
          "text": [
            "Train on 45000 samples, validate on 5000 samples\n",
            "Epoch 1/20\n",
            "45000/45000 [==============================] - 4s 97us/step - loss: 2.0470 - acc: 0.2464 - val_loss: 2.0119 - val_acc: 0.2624\n",
            "\n",
            "lr: 0.1000\n",
            "Epoch 2/20\n",
            "45000/45000 [==============================] - 4s 94us/step - loss: 2.1712 - acc: 0.1968 - val_loss: 2.1051 - val_acc: 0.2358\n",
            "\n",
            "lr: 0.1000\n",
            "Epoch 3/20\n",
            "45000/45000 [==============================] - 4s 95us/step - loss: 1.8296 - acc: 0.3475 - val_loss: 1.7004 - val_acc: 0.3926\n",
            "\n",
            "lr: 0.1000\n",
            "Epoch 4/20\n",
            "45000/45000 [==============================] - 4s 94us/step - loss: 1.5838 - acc: 0.4309 - val_loss: 1.4214 - val_acc: 0.4882\n",
            "\n",
            "lr: 0.1000\n",
            "Epoch 5/20\n",
            "45000/45000 [==============================] - 4s 95us/step - loss: 1.4552 - acc: 0.4774 - val_loss: 1.3624 - val_acc: 0.5114\n",
            "\n",
            "lr: 0.1000\n",
            "Epoch 6/20\n",
            "45000/45000 [==============================] - 4s 96us/step - loss: 1.3679 - acc: 0.5083 - val_loss: 1.2304 - val_acc: 0.5626\n",
            "\n",
            "lr: 0.1000\n",
            "Epoch 7/20\n",
            "45000/45000 [==============================] - 4s 95us/step - loss: 1.2818 - acc: 0.5405 - val_loss: 1.1421 - val_acc: 0.5876\n",
            "\n",
            "lr: 0.1000\n",
            "Epoch 8/20\n",
            "45000/45000 [==============================] - 4s 95us/step - loss: 1.2075 - acc: 0.5712 - val_loss: 1.0735 - val_acc: 0.6302\n",
            "\n",
            "lr: 0.1000\n",
            "Epoch 9/20\n",
            "45000/45000 [==============================] - 4s 95us/step - loss: 1.1394 - acc: 0.5962 - val_loss: 1.1185 - val_acc: 0.6084\n",
            "\n",
            "lr: 0.1000\n",
            "Epoch 10/20\n",
            "45000/45000 [==============================] - 4s 97us/step - loss: 1.0708 - acc: 0.6208 - val_loss: 0.9686 - val_acc: 0.6616\n",
            "\n",
            "lr: 0.1000\n",
            "Epoch 11/20\n",
            "45000/45000 [==============================] - 4s 97us/step - loss: 1.0241 - acc: 0.6356 - val_loss: 0.9367 - val_acc: 0.6684\n",
            "\n",
            "lr: 0.0100\n",
            "Epoch 12/20\n",
            "45000/45000 [==============================] - 4s 96us/step - loss: 0.8981 - acc: 0.6814 - val_loss: 0.8515 - val_acc: 0.6966\n",
            "\n",
            "lr: 0.0100\n",
            "Epoch 13/20\n",
            "45000/45000 [==============================] - 4s 96us/step - loss: 0.8804 - acc: 0.6889 - val_loss: 0.8344 - val_acc: 0.7016\n",
            "\n",
            "lr: 0.0100\n",
            "Epoch 14/20\n",
            "45000/45000 [==============================] - 4s 95us/step - loss: 0.8688 - acc: 0.6929 - val_loss: 0.8266 - val_acc: 0.7048\n",
            "\n",
            "lr: 0.0100\n",
            "Epoch 15/20\n",
            "45000/45000 [==============================] - 4s 96us/step - loss: 0.8561 - acc: 0.6964 - val_loss: 0.8186 - val_acc: 0.7112\n",
            "\n",
            "lr: 0.0100\n",
            "Epoch 16/20\n",
            "45000/45000 [==============================] - 4s 95us/step - loss: 0.8534 - acc: 0.6980 - val_loss: 0.8151 - val_acc: 0.7124\n",
            "\n",
            "lr: 0.0100\n",
            "Epoch 17/20\n",
            "45000/45000 [==============================] - 4s 96us/step - loss: 0.8455 - acc: 0.7006 - val_loss: 0.8135 - val_acc: 0.7126\n",
            "\n",
            "lr: 0.0100\n",
            "Epoch 18/20\n",
            "45000/45000 [==============================] - 4s 95us/step - loss: 0.8379 - acc: 0.7022 - val_loss: 0.8044 - val_acc: 0.7172\n",
            "\n",
            "lr: 0.0100\n",
            "Epoch 19/20\n",
            "45000/45000 [==============================] - 4s 95us/step - loss: 0.8308 - acc: 0.7054 - val_loss: 0.8000 - val_acc: 0.7164\n",
            "\n",
            "lr: 0.0100\n",
            "Epoch 20/20\n",
            "45000/45000 [==============================] - 4s 95us/step - loss: 0.8222 - acc: 0.7087 - val_loss: 0.7936 - val_acc: 0.7166\n",
            "\n",
            "lr: 0.0100\n"
          ],
          "name": "stdout"
        }
      ]
    }
  ]
}
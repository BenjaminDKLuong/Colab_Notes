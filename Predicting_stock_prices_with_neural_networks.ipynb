{
  "nbformat": 4,
  "nbformat_minor": 0,
  "metadata": {
    "colab": {
      "name": "Predicting_stock_prices_with_neural_networks.ipynb",
      "version": "0.3.2",
      "provenance": [],
      "collapsed_sections": [],
      "include_colab_link": true
    },
    "kernelspec": {
      "name": "python3",
      "display_name": "Python 3"
    },
    "accelerator": "GPU"
  },
  "cells": [
    {
      "cell_type": "markdown",
      "metadata": {
        "id": "view-in-github",
        "colab_type": "text"
      },
      "source": [
        "<a href=\"https://colab.research.google.com/github/BenjaminDKLuong/Colab_Notes/blob/master/Predicting_stock_prices_with_neural_networks.ipynb\" target=\"_parent\"><img src=\"https://colab.research.google.com/assets/colab-badge.svg\" alt=\"Open In Colab\"/></a>"
      ]
    },
    {
      "cell_type": "markdown",
      "metadata": {
        "id": "91tYYzOuMzMk",
        "colab_type": "text"
      },
      "source": [
        "# Predicting stock prices with neural networks"
      ]
    },
    {
      "cell_type": "code",
      "metadata": {
        "id": "Zpgtn4Cv4w5R",
        "colab_type": "code",
        "colab": {
          "base_uri": "https://localhost:8080/",
          "height": 141
        },
        "outputId": "1c3714af-9ab0-4dae-cc17-f3955e932cf1"
      },
      "source": [
        "!git clone https://github.com/PacktPublishing/Python-Deep-Learning-Solutions-.git"
      ],
      "execution_count": 1,
      "outputs": [
        {
          "output_type": "stream",
          "text": [
            "Cloning into 'Python-Deep-Learning-Solutions-'...\n",
            "remote: Enumerating objects: 9, done.\u001b[K\n",
            "remote: Counting objects: 100% (9/9), done.\u001b[K\n",
            "remote: Compressing objects: 100% (9/9), done.\u001b[K\n",
            "remote: Total 175 (delta 0), reused 0 (delta 0), pack-reused 166\u001b[K\n",
            "Receiving objects: 100% (175/175), 18.61 MiB | 30.88 MiB/s, done.\n",
            "Resolving deltas: 100% (21/21), done.\n"
          ],
          "name": "stdout"
        }
      ]
    },
    {
      "cell_type": "code",
      "metadata": {
        "id": "L2JL2g6SNHD9",
        "colab_type": "code",
        "colab": {}
      },
      "source": [
        "# change working directory to new location\n",
        "import os\n",
        "os.chdir(\"/content/Python-Deep-Learning-Solutions-/Section05\")\n"
      ],
      "execution_count": 0,
      "outputs": []
    },
    {
      "cell_type": "code",
      "metadata": {
        "id": "K0Hfg0a2NHtx",
        "colab_type": "code",
        "colab": {
          "base_uri": "https://localhost:8080/",
          "height": 34
        },
        "outputId": "85e111b2-d202-4d50-ee86-acb414212d33"
      },
      "source": [
        "# check current working directory\n",
        "%pwd"
      ],
      "execution_count": 5,
      "outputs": [
        {
          "output_type": "execute_result",
          "data": {
            "text/plain": [
              "'/content/Python-Deep-Learning-Solutions-/Section05'"
            ]
          },
          "metadata": {
            "tags": []
          },
          "execution_count": 5
        }
      ]
    },
    {
      "cell_type": "markdown",
      "metadata": {
        "id": "-dEVEIGSOzaE",
        "colab_type": "text"
      },
      "source": [
        "## Import Data"
      ]
    },
    {
      "cell_type": "code",
      "metadata": {
        "id": "5iMajWHSNHk4",
        "colab_type": "code",
        "colab": {
          "base_uri": "https://localhost:8080/",
          "height": 34
        },
        "outputId": "4d578685-5e18-44b6-fef3-ae503383e45e"
      },
      "source": [
        "import matplotlib.pyplot as plt\n",
        "import numpy as np\n",
        "import pandas as pd\n",
        "from sklearn.preprocessing import MinMaxScaler\n",
        "\n",
        "from keras.layers.core import Dense, Activation, Dropout\n",
        "from keras.layers.recurrent import LSTM\n",
        "from keras.models import Sequential"
      ],
      "execution_count": 7,
      "outputs": [
        {
          "output_type": "stream",
          "text": [
            "Using TensorFlow backend.\n"
          ],
          "name": "stderr"
        }
      ]
    },
    {
      "cell_type": "code",
      "metadata": {
        "id": "VY64GzENO7jl",
        "colab_type": "code",
        "colab": {
          "base_uri": "https://localhost:8080/",
          "height": 197
        },
        "outputId": "01aa17f5-b0f6-40cd-8407-8fbb92159e82"
      },
      "source": [
        "data = pd.read_csv('Data/stock-data.csv')\n",
        "# Reorder the columns for convenience\n",
        "data = data[['Open', 'High', 'Low', 'Volume', 'Close']]\n",
        "data.head()"
      ],
      "execution_count": 8,
      "outputs": [
        {
          "output_type": "execute_result",
          "data": {
            "text/html": [
              "<div>\n",
              "<style scoped>\n",
              "    .dataframe tbody tr th:only-of-type {\n",
              "        vertical-align: middle;\n",
              "    }\n",
              "\n",
              "    .dataframe tbody tr th {\n",
              "        vertical-align: top;\n",
              "    }\n",
              "\n",
              "    .dataframe thead th {\n",
              "        text-align: right;\n",
              "    }\n",
              "</style>\n",
              "<table border=\"1\" class=\"dataframe\">\n",
              "  <thead>\n",
              "    <tr style=\"text-align: right;\">\n",
              "      <th></th>\n",
              "      <th>Open</th>\n",
              "      <th>High</th>\n",
              "      <th>Low</th>\n",
              "      <th>Volume</th>\n",
              "      <th>Close</th>\n",
              "    </tr>\n",
              "  </thead>\n",
              "  <tbody>\n",
              "    <tr>\n",
              "      <th>0</th>\n",
              "      <td>3471.949951</td>\n",
              "      <td>4073.729980</td>\n",
              "      <td>3459.850098</td>\n",
              "      <td>33352380000</td>\n",
              "      <td>3966.110107</td>\n",
              "    </tr>\n",
              "    <tr>\n",
              "      <th>1</th>\n",
              "      <td>3950.590088</td>\n",
              "      <td>4289.060059</td>\n",
              "      <td>3615.790039</td>\n",
              "      <td>30916110000</td>\n",
              "      <td>3766.989990</td>\n",
              "    </tr>\n",
              "    <tr>\n",
              "      <th>2</th>\n",
              "      <td>3760.949951</td>\n",
              "      <td>4208.729980</td>\n",
              "      <td>3521.139893</td>\n",
              "      <td>33222920000</td>\n",
              "      <td>4206.350098</td>\n",
              "    </tr>\n",
              "    <tr>\n",
              "      <th>3</th>\n",
              "      <td>4252.149902</td>\n",
              "      <td>4259.870117</td>\n",
              "      <td>3614.659912</td>\n",
              "      <td>34727330000</td>\n",
              "      <td>3672.820068</td>\n",
              "    </tr>\n",
              "    <tr>\n",
              "      <th>4</th>\n",
              "      <td>3714.479980</td>\n",
              "      <td>3714.479980</td>\n",
              "      <td>3026.110107</td>\n",
              "      <td>44129010000</td>\n",
              "      <td>3369.629883</td>\n",
              "    </tr>\n",
              "  </tbody>\n",
              "</table>\n",
              "</div>"
            ],
            "text/plain": [
              "          Open         High          Low       Volume        Close\n",
              "0  3471.949951  4073.729980  3459.850098  33352380000  3966.110107\n",
              "1  3950.590088  4289.060059  3615.790039  30916110000  3766.989990\n",
              "2  3760.949951  4208.729980  3521.139893  33222920000  4206.350098\n",
              "3  4252.149902  4259.870117  3614.659912  34727330000  3672.820068\n",
              "4  3714.479980  3714.479980  3026.110107  44129010000  3369.629883"
            ]
          },
          "metadata": {
            "tags": []
          },
          "execution_count": 8
        }
      ]
    },
    {
      "cell_type": "code",
      "metadata": {
        "id": "Z6E0c5I3O7gf",
        "colab_type": "code",
        "colab": {}
      },
      "source": [
        "sequence_length = 21 # 20 preceeding inputs\n",
        "n_features = len(data.columns)\n",
        "val_ratio = 0.1\n",
        "n_epochs = 300\n",
        "batch_size = 512"
      ],
      "execution_count": 0,
      "outputs": []
    },
    {
      "cell_type": "code",
      "metadata": {
        "id": "Rlt9Pkt6O7de",
        "colab_type": "code",
        "colab": {
          "base_uri": "https://localhost:8080/",
          "height": 72
        },
        "outputId": "c1fc3ada-b43f-44be-b6ab-cc7738f25358"
      },
      "source": [
        "data = data.as_matrix()\n",
        "data_processed = []\n",
        "for index in range(len(data) - sequence_length):\n",
        "    data_processed.append(data[index : index + sequence_length])\n",
        "data_processed = np.array(data_processed)"
      ],
      "execution_count": 10,
      "outputs": [
        {
          "output_type": "stream",
          "text": [
            "/usr/local/lib/python3.6/dist-packages/ipykernel_launcher.py:1: FutureWarning: Method .as_matrix will be removed in a future version. Use .values instead.\n",
            "  \"\"\"Entry point for launching an IPython kernel.\n"
          ],
          "name": "stderr"
        }
      ]
    },
    {
      "cell_type": "code",
      "metadata": {
        "id": "Bk8Fj-zcO7am",
        "colab_type": "code",
        "colab": {
          "base_uri": "https://localhost:8080/",
          "height": 52
        },
        "outputId": "26fc53ff-5ab7-434d-9b2d-e2f7956d789d"
      },
      "source": [
        "val_split = round((1-val_ratio) * data_processed.shape[0])\n",
        "train = data_processed[: int(val_split), :]\n",
        "val = data_processed[int(val_split) :, :]\n",
        "\n",
        "print('Training data: {}'.format(train.shape))\n",
        "print('Validation data: {}'.format(val.shape))"
      ],
      "execution_count": 12,
      "outputs": [
        {
          "output_type": "stream",
          "text": [
            "Training data: (165, 21, 5)\n",
            "Validation data: (18, 21, 5)\n"
          ],
          "name": "stdout"
        }
      ]
    },
    {
      "cell_type": "code",
      "metadata": {
        "id": "X8_B0fbRO7Xn",
        "colab_type": "code",
        "colab": {
          "base_uri": "https://localhost:8080/",
          "height": 105
        },
        "outputId": "8c4a4a35-5f8a-401b-ca53-f8acea52c6ec"
      },
      "source": [
        "train_samples, train_nx, train_ny = train.shape\n",
        "val_samples, val_nx, val_ny = val.shape\n",
        "\n",
        "train = train.reshape((train_samples, train_nx * train_ny))\n",
        "val = val.reshape((val_samples, val_nx * val_ny))\n",
        "\n",
        "print('Training data: {}'.format(train.shape))\n",
        "print('Validation data: {}'.format(val.shape))\n",
        "print()\n",
        "\n",
        "# convert input to [0,1]\n",
        "preprocessor = MinMaxScaler().fit(train)\n",
        "train = preprocessor.transform(train)\n",
        "val = preprocessor.transform(val)\n",
        "\n",
        "train = train.reshape((train_samples, train_nx, train_ny))\n",
        "val = val.reshape((val_samples, val_nx, val_ny))\n",
        "\n",
        "print('Training data: {}'.format(train.shape))\n",
        "print('Validation data: {}'.format(val.shape))"
      ],
      "execution_count": 13,
      "outputs": [
        {
          "output_type": "stream",
          "text": [
            "Training data: (165, 105)\n",
            "Validation data: (18, 105)\n",
            "\n",
            "Training data: (165, 21, 5)\n",
            "Validation data: (18, 21, 5)\n"
          ],
          "name": "stdout"
        }
      ]
    },
    {
      "cell_type": "code",
      "metadata": {
        "id": "o6o08o9ENHew",
        "colab_type": "code",
        "colab": {
          "base_uri": "https://localhost:8080/",
          "height": 34
        },
        "outputId": "c3a14eed-3089-4b9f-ab04-0d1fee2f46a2"
      },
      "source": [
        "train[:, : -1].shape"
      ],
      "execution_count": 16,
      "outputs": [
        {
          "output_type": "execute_result",
          "data": {
            "text/plain": [
              "(165, 20, 5)"
            ]
          },
          "metadata": {
            "tags": []
          },
          "execution_count": 16
        }
      ]
    },
    {
      "cell_type": "code",
      "metadata": {
        "id": "xlGis_etP8mk",
        "colab_type": "code",
        "colab": {
          "base_uri": "https://localhost:8080/",
          "height": 34
        },
        "outputId": "0007d7d6-6b41-427f-fa90-c0555cd08920"
      },
      "source": [
        "train[:, -1][: ,-1].shape"
      ],
      "execution_count": 21,
      "outputs": [
        {
          "output_type": "execute_result",
          "data": {
            "text/plain": [
              "(165,)"
            ]
          },
          "metadata": {
            "tags": []
          },
          "execution_count": 21
        }
      ]
    },
    {
      "cell_type": "code",
      "metadata": {
        "id": "0JJ9aap7NHhw",
        "colab_type": "code",
        "colab": {}
      },
      "source": [
        "X_train = train[:, : -1] #left out the last row\n",
        "y_train = train[:, -1][: ,-1] # select the last row, then select last number of that\n",
        "\n",
        "X_val = val[:, : -1]\n",
        "y_val = val[:, -1][ : ,-1]\n",
        "\n",
        "X_train = np.reshape(X_train, (X_train.shape[0], X_train.shape[1], n_features))\n",
        "X_val = np.reshape(X_val, (X_val.shape[0], X_val.shape[1], n_features))"
      ],
      "execution_count": 0,
      "outputs": []
    },
    {
      "cell_type": "code",
      "metadata": {
        "id": "cEUxqGoUQfbx",
        "colab_type": "code",
        "colab": {
          "base_uri": "https://localhost:8080/",
          "height": 34
        },
        "outputId": "6e9583de-e6e8-4731-d20b-60ace29daac2"
      },
      "source": [
        "X_train.shape"
      ],
      "execution_count": 23,
      "outputs": [
        {
          "output_type": "execute_result",
          "data": {
            "text/plain": [
              "(165, 20, 5)"
            ]
          },
          "metadata": {
            "tags": []
          },
          "execution_count": 23
        }
      ]
    },
    {
      "cell_type": "markdown",
      "metadata": {
        "id": "K8MIyhWiRgqu",
        "colab_type": "text"
      },
      "source": [
        "## Model\n"
      ]
    },
    {
      "cell_type": "code",
      "metadata": {
        "id": "B5dOC0-_QkfS",
        "colab_type": "code",
        "colab": {
          "base_uri": "https://localhost:8080/",
          "height": 143
        },
        "outputId": "d3956d47-7b2f-402c-df5e-a24962d83a26"
      },
      "source": [
        "model = Sequential()\n",
        "model.add(LSTM(input_shape=(X_train.shape[1:]), units = 128, return_sequences=True))\n",
        "model.add(Dropout(0.5))\n",
        "model.add(LSTM(128, return_sequences=False))\n",
        "model.add(Dropout(0.25))\n",
        "model.add(Dense(units=1))\n",
        "model.add(Activation(\"linear\"))\n",
        "model.compile(loss=\"mse\", optimizer=\"adam\")"
      ],
      "execution_count": 24,
      "outputs": [
        {
          "output_type": "stream",
          "text": [
            "WARNING:tensorflow:From /usr/local/lib/python3.6/dist-packages/tensorflow/python/framework/op_def_library.py:263: colocate_with (from tensorflow.python.framework.ops) is deprecated and will be removed in a future version.\n",
            "Instructions for updating:\n",
            "Colocations handled automatically by placer.\n",
            "WARNING:tensorflow:From /usr/local/lib/python3.6/dist-packages/keras/backend/tensorflow_backend.py:3445: calling dropout (from tensorflow.python.ops.nn_ops) with keep_prob is deprecated and will be removed in a future version.\n",
            "Instructions for updating:\n",
            "Please use `rate` instead of `keep_prob`. Rate should be set to `rate = 1 - keep_prob`.\n"
          ],
          "name": "stdout"
        }
      ]
    },
    {
      "cell_type": "code",
      "metadata": {
        "id": "sN8kC21zQkcF",
        "colab_type": "code",
        "colab": {
          "base_uri": "https://localhost:8080/",
          "height": 10756
        },
        "outputId": "12950bfa-d66a-4bfb-cc65-aae1fdb54675"
      },
      "source": [
        "history = model.fit(\n",
        "    X_train,\n",
        "    y_train,\n",
        "    batch_size=batch_size,\n",
        "    epochs=n_epochs,\n",
        "    verbose=1\n",
        "    )"
      ],
      "execution_count": 25,
      "outputs": [
        {
          "output_type": "stream",
          "text": [
            "WARNING:tensorflow:From /usr/local/lib/python3.6/dist-packages/tensorflow/python/ops/math_ops.py:3066: to_int32 (from tensorflow.python.ops.math_ops) is deprecated and will be removed in a future version.\n",
            "Instructions for updating:\n",
            "Use tf.cast instead.\n",
            "Epoch 1/300\n",
            "165/165 [==============================] - 3s 21ms/step - loss: 0.2080\n",
            "Epoch 2/300\n",
            "165/165 [==============================] - 0s 356us/step - loss: 0.1033\n",
            "Epoch 3/300\n",
            "165/165 [==============================] - 0s 364us/step - loss: 0.0390\n",
            "Epoch 4/300\n",
            "165/165 [==============================] - 0s 364us/step - loss: 0.0119\n",
            "Epoch 5/300\n",
            "165/165 [==============================] - 0s 377us/step - loss: 0.0355\n",
            "Epoch 6/300\n",
            "165/165 [==============================] - 0s 361us/step - loss: 0.0412\n",
            "Epoch 7/300\n",
            "165/165 [==============================] - 0s 359us/step - loss: 0.0228\n",
            "Epoch 8/300\n",
            "165/165 [==============================] - 0s 363us/step - loss: 0.0112\n",
            "Epoch 9/300\n",
            "165/165 [==============================] - 0s 349us/step - loss: 0.0092\n",
            "Epoch 10/300\n",
            "165/165 [==============================] - 0s 411us/step - loss: 0.0146\n",
            "Epoch 11/300\n",
            "165/165 [==============================] - 0s 371us/step - loss: 0.0172\n",
            "Epoch 12/300\n",
            "165/165 [==============================] - 0s 362us/step - loss: 0.0189\n",
            "Epoch 13/300\n",
            "165/165 [==============================] - 0s 375us/step - loss: 0.0171\n",
            "Epoch 14/300\n",
            "165/165 [==============================] - 0s 370us/step - loss: 0.0161\n",
            "Epoch 15/300\n",
            "165/165 [==============================] - 0s 358us/step - loss: 0.0100\n",
            "Epoch 16/300\n",
            "165/165 [==============================] - 0s 363us/step - loss: 0.0070\n",
            "Epoch 17/300\n",
            "165/165 [==============================] - 0s 361us/step - loss: 0.0065\n",
            "Epoch 18/300\n",
            "165/165 [==============================] - 0s 354us/step - loss: 0.0085\n",
            "Epoch 19/300\n",
            "165/165 [==============================] - 0s 370us/step - loss: 0.0106\n",
            "Epoch 20/300\n",
            "165/165 [==============================] - 0s 379us/step - loss: 0.0106\n",
            "Epoch 21/300\n",
            "165/165 [==============================] - 0s 364us/step - loss: 0.0091\n",
            "Epoch 22/300\n",
            "165/165 [==============================] - 0s 411us/step - loss: 0.0099\n",
            "Epoch 23/300\n",
            "165/165 [==============================] - 0s 373us/step - loss: 0.0069\n",
            "Epoch 24/300\n",
            "165/165 [==============================] - 0s 370us/step - loss: 0.0056\n",
            "Epoch 25/300\n",
            "165/165 [==============================] - 0s 356us/step - loss: 0.0064\n",
            "Epoch 26/300\n",
            "165/165 [==============================] - 0s 450us/step - loss: 0.0066\n",
            "Epoch 27/300\n",
            "165/165 [==============================] - 0s 364us/step - loss: 0.0097\n",
            "Epoch 28/300\n",
            "165/165 [==============================] - 0s 373us/step - loss: 0.0093\n",
            "Epoch 29/300\n",
            "165/165 [==============================] - 0s 393us/step - loss: 0.0073\n",
            "Epoch 30/300\n",
            "165/165 [==============================] - 0s 366us/step - loss: 0.0073\n",
            "Epoch 31/300\n",
            "165/165 [==============================] - 0s 361us/step - loss: 0.0062\n",
            "Epoch 32/300\n",
            "165/165 [==============================] - 0s 351us/step - loss: 0.0063\n",
            "Epoch 33/300\n",
            "165/165 [==============================] - 0s 377us/step - loss: 0.0054\n",
            "Epoch 34/300\n",
            "165/165 [==============================] - 0s 364us/step - loss: 0.0073\n",
            "Epoch 35/300\n",
            "165/165 [==============================] - 0s 356us/step - loss: 0.0065\n",
            "Epoch 36/300\n",
            "165/165 [==============================] - 0s 370us/step - loss: 0.0063\n",
            "Epoch 37/300\n",
            "165/165 [==============================] - 0s 364us/step - loss: 0.0063\n",
            "Epoch 38/300\n",
            "165/165 [==============================] - 0s 364us/step - loss: 0.0070\n",
            "Epoch 39/300\n",
            "165/165 [==============================] - 0s 376us/step - loss: 0.0060\n",
            "Epoch 40/300\n",
            "165/165 [==============================] - 0s 368us/step - loss: 0.0050\n",
            "Epoch 41/300\n",
            "165/165 [==============================] - 0s 353us/step - loss: 0.0062\n",
            "Epoch 42/300\n",
            "165/165 [==============================] - 0s 413us/step - loss: 0.0049\n",
            "Epoch 43/300\n",
            "165/165 [==============================] - 0s 373us/step - loss: 0.0059\n",
            "Epoch 44/300\n",
            "165/165 [==============================] - 0s 384us/step - loss: 0.0062\n",
            "Epoch 45/300\n",
            "165/165 [==============================] - 0s 360us/step - loss: 0.0058\n",
            "Epoch 46/300\n",
            "165/165 [==============================] - 0s 367us/step - loss: 0.0062\n",
            "Epoch 47/300\n",
            "165/165 [==============================] - 0s 363us/step - loss: 0.0054\n",
            "Epoch 48/300\n",
            "165/165 [==============================] - 0s 372us/step - loss: 0.0051\n",
            "Epoch 49/300\n",
            "165/165 [==============================] - 0s 356us/step - loss: 0.0054\n",
            "Epoch 50/300\n",
            "165/165 [==============================] - 0s 356us/step - loss: 0.0059\n",
            "Epoch 51/300\n",
            "165/165 [==============================] - 0s 369us/step - loss: 0.0059\n",
            "Epoch 52/300\n",
            "165/165 [==============================] - 0s 358us/step - loss: 0.0057\n",
            "Epoch 53/300\n",
            "165/165 [==============================] - 0s 365us/step - loss: 0.0056\n",
            "Epoch 54/300\n",
            "165/165 [==============================] - 0s 396us/step - loss: 0.0048\n",
            "Epoch 55/300\n",
            "165/165 [==============================] - 0s 435us/step - loss: 0.0051\n",
            "Epoch 56/300\n",
            "165/165 [==============================] - 0s 453us/step - loss: 0.0044\n",
            "Epoch 57/300\n",
            "165/165 [==============================] - 0s 396us/step - loss: 0.0052\n",
            "Epoch 58/300\n",
            "165/165 [==============================] - 0s 480us/step - loss: 0.0062\n",
            "Epoch 59/300\n",
            "165/165 [==============================] - 0s 427us/step - loss: 0.0061\n",
            "Epoch 60/300\n",
            "165/165 [==============================] - 0s 449us/step - loss: 0.0056\n",
            "Epoch 61/300\n",
            "165/165 [==============================] - 0s 440us/step - loss: 0.0054\n",
            "Epoch 62/300\n",
            "165/165 [==============================] - 0s 437us/step - loss: 0.0047\n",
            "Epoch 63/300\n",
            "165/165 [==============================] - 0s 416us/step - loss: 0.0058\n",
            "Epoch 64/300\n",
            "165/165 [==============================] - 0s 412us/step - loss: 0.0050\n",
            "Epoch 65/300\n",
            "165/165 [==============================] - 0s 403us/step - loss: 0.0060\n",
            "Epoch 66/300\n",
            "165/165 [==============================] - 0s 397us/step - loss: 0.0049\n",
            "Epoch 67/300\n",
            "165/165 [==============================] - 0s 396us/step - loss: 0.0049\n",
            "Epoch 68/300\n",
            "165/165 [==============================] - 0s 423us/step - loss: 0.0053\n",
            "Epoch 69/300\n",
            "165/165 [==============================] - 0s 412us/step - loss: 0.0041\n",
            "Epoch 70/300\n",
            "165/165 [==============================] - 0s 414us/step - loss: 0.0053\n",
            "Epoch 71/300\n",
            "165/165 [==============================] - 0s 407us/step - loss: 0.0051\n",
            "Epoch 72/300\n",
            "165/165 [==============================] - 0s 414us/step - loss: 0.0047\n",
            "Epoch 73/300\n",
            "165/165 [==============================] - 0s 504us/step - loss: 0.0048\n",
            "Epoch 74/300\n",
            "165/165 [==============================] - 0s 420us/step - loss: 0.0053\n",
            "Epoch 75/300\n",
            "165/165 [==============================] - 0s 423us/step - loss: 0.0058\n",
            "Epoch 76/300\n",
            "165/165 [==============================] - 0s 422us/step - loss: 0.0047\n",
            "Epoch 77/300\n",
            "165/165 [==============================] - 0s 405us/step - loss: 0.0054\n",
            "Epoch 78/300\n",
            "165/165 [==============================] - 0s 420us/step - loss: 0.0060\n",
            "Epoch 79/300\n",
            "165/165 [==============================] - 0s 425us/step - loss: 0.0048\n",
            "Epoch 80/300\n",
            "165/165 [==============================] - 0s 418us/step - loss: 0.0043\n",
            "Epoch 81/300\n",
            "165/165 [==============================] - 0s 404us/step - loss: 0.0042\n",
            "Epoch 82/300\n",
            "165/165 [==============================] - 0s 413us/step - loss: 0.0049\n",
            "Epoch 83/300\n",
            "165/165 [==============================] - 0s 404us/step - loss: 0.0050\n",
            "Epoch 84/300\n",
            "165/165 [==============================] - 0s 384us/step - loss: 0.0052\n",
            "Epoch 85/300\n",
            "165/165 [==============================] - 0s 410us/step - loss: 0.0054\n",
            "Epoch 86/300\n",
            "165/165 [==============================] - 0s 428us/step - loss: 0.0043\n",
            "Epoch 87/300\n",
            "165/165 [==============================] - 0s 459us/step - loss: 0.0050\n",
            "Epoch 88/300\n",
            "165/165 [==============================] - 0s 402us/step - loss: 0.0045\n",
            "Epoch 89/300\n",
            "165/165 [==============================] - 0s 418us/step - loss: 0.0050\n",
            "Epoch 90/300\n",
            "165/165 [==============================] - 0s 399us/step - loss: 0.0047\n",
            "Epoch 91/300\n",
            "165/165 [==============================] - 0s 396us/step - loss: 0.0055\n",
            "Epoch 92/300\n",
            "165/165 [==============================] - 0s 393us/step - loss: 0.0055\n",
            "Epoch 93/300\n",
            "165/165 [==============================] - 0s 405us/step - loss: 0.0043\n",
            "Epoch 94/300\n",
            "165/165 [==============================] - 0s 410us/step - loss: 0.0045\n",
            "Epoch 95/300\n",
            "165/165 [==============================] - 0s 404us/step - loss: 0.0053\n",
            "Epoch 96/300\n",
            "165/165 [==============================] - 0s 397us/step - loss: 0.0051\n",
            "Epoch 97/300\n",
            "165/165 [==============================] - 0s 403us/step - loss: 0.0050\n",
            "Epoch 98/300\n",
            "165/165 [==============================] - 0s 412us/step - loss: 0.0045\n",
            "Epoch 99/300\n",
            "165/165 [==============================] - 0s 408us/step - loss: 0.0046\n",
            "Epoch 100/300\n",
            "165/165 [==============================] - 0s 382us/step - loss: 0.0047\n",
            "Epoch 101/300\n",
            "165/165 [==============================] - 0s 437us/step - loss: 0.0042\n",
            "Epoch 102/300\n",
            "165/165 [==============================] - 0s 491us/step - loss: 0.0046\n",
            "Epoch 103/300\n",
            "165/165 [==============================] - 0s 408us/step - loss: 0.0043\n",
            "Epoch 104/300\n",
            "165/165 [==============================] - 0s 414us/step - loss: 0.0047\n",
            "Epoch 105/300\n",
            "165/165 [==============================] - 0s 413us/step - loss: 0.0040\n",
            "Epoch 106/300\n",
            "165/165 [==============================] - 0s 421us/step - loss: 0.0047\n",
            "Epoch 107/300\n",
            "165/165 [==============================] - 0s 398us/step - loss: 0.0042\n",
            "Epoch 108/300\n",
            "165/165 [==============================] - 0s 418us/step - loss: 0.0047\n",
            "Epoch 109/300\n",
            "165/165 [==============================] - 0s 418us/step - loss: 0.0048\n",
            "Epoch 110/300\n",
            "165/165 [==============================] - 0s 405us/step - loss: 0.0046\n",
            "Epoch 111/300\n",
            "165/165 [==============================] - 0s 436us/step - loss: 0.0046\n",
            "Epoch 112/300\n",
            "165/165 [==============================] - 0s 413us/step - loss: 0.0042\n",
            "Epoch 113/300\n",
            "165/165 [==============================] - 0s 424us/step - loss: 0.0046\n",
            "Epoch 114/300\n",
            "165/165 [==============================] - 0s 391us/step - loss: 0.0053\n",
            "Epoch 115/300\n",
            "165/165 [==============================] - 0s 425us/step - loss: 0.0042\n",
            "Epoch 116/300\n",
            "165/165 [==============================] - 0s 375us/step - loss: 0.0051\n",
            "Epoch 117/300\n",
            "165/165 [==============================] - 0s 489us/step - loss: 0.0048\n",
            "Epoch 118/300\n",
            "165/165 [==============================] - 0s 422us/step - loss: 0.0050\n",
            "Epoch 119/300\n",
            "165/165 [==============================] - 0s 416us/step - loss: 0.0045\n",
            "Epoch 120/300\n",
            "165/165 [==============================] - 0s 408us/step - loss: 0.0043\n",
            "Epoch 121/300\n",
            "165/165 [==============================] - 0s 402us/step - loss: 0.0038\n",
            "Epoch 122/300\n",
            "165/165 [==============================] - 0s 404us/step - loss: 0.0040\n",
            "Epoch 123/300\n",
            "165/165 [==============================] - 0s 411us/step - loss: 0.0047\n",
            "Epoch 124/300\n",
            "165/165 [==============================] - 0s 382us/step - loss: 0.0051\n",
            "Epoch 125/300\n",
            "165/165 [==============================] - 0s 398us/step - loss: 0.0045\n",
            "Epoch 126/300\n",
            "165/165 [==============================] - 0s 411us/step - loss: 0.0046\n",
            "Epoch 127/300\n",
            "165/165 [==============================] - 0s 439us/step - loss: 0.0043\n",
            "Epoch 128/300\n",
            "165/165 [==============================] - 0s 378us/step - loss: 0.0054\n",
            "Epoch 129/300\n",
            "165/165 [==============================] - 0s 355us/step - loss: 0.0040\n",
            "Epoch 130/300\n",
            "165/165 [==============================] - 0s 363us/step - loss: 0.0045\n",
            "Epoch 131/300\n",
            "165/165 [==============================] - 0s 391us/step - loss: 0.0033\n",
            "Epoch 132/300\n",
            "165/165 [==============================] - 0s 432us/step - loss: 0.0039\n",
            "Epoch 133/300\n",
            "165/165 [==============================] - 0s 366us/step - loss: 0.0049\n",
            "Epoch 134/300\n",
            "165/165 [==============================] - 0s 355us/step - loss: 0.0035\n",
            "Epoch 135/300\n",
            "165/165 [==============================] - 0s 371us/step - loss: 0.0044\n",
            "Epoch 136/300\n",
            "165/165 [==============================] - 0s 361us/step - loss: 0.0046\n",
            "Epoch 137/300\n",
            "165/165 [==============================] - 0s 361us/step - loss: 0.0052\n",
            "Epoch 138/300\n",
            "165/165 [==============================] - 0s 396us/step - loss: 0.0045\n",
            "Epoch 139/300\n",
            "165/165 [==============================] - 0s 369us/step - loss: 0.0046\n",
            "Epoch 140/300\n",
            "165/165 [==============================] - 0s 362us/step - loss: 0.0038\n",
            "Epoch 141/300\n",
            "165/165 [==============================] - 0s 352us/step - loss: 0.0046\n",
            "Epoch 142/300\n",
            "165/165 [==============================] - 0s 359us/step - loss: 0.0038\n",
            "Epoch 143/300\n",
            "165/165 [==============================] - 0s 353us/step - loss: 0.0038\n",
            "Epoch 144/300\n",
            "165/165 [==============================] - 0s 368us/step - loss: 0.0038\n",
            "Epoch 145/300\n",
            "165/165 [==============================] - 0s 361us/step - loss: 0.0039\n",
            "Epoch 146/300\n",
            "165/165 [==============================] - 0s 373us/step - loss: 0.0042\n",
            "Epoch 147/300\n",
            "165/165 [==============================] - 0s 443us/step - loss: 0.0037\n",
            "Epoch 148/300\n",
            "165/165 [==============================] - 0s 428us/step - loss: 0.0043\n",
            "Epoch 149/300\n",
            "165/165 [==============================] - 0s 364us/step - loss: 0.0049\n",
            "Epoch 150/300\n",
            "165/165 [==============================] - 0s 348us/step - loss: 0.0046\n",
            "Epoch 151/300\n",
            "165/165 [==============================] - 0s 363us/step - loss: 0.0037\n",
            "Epoch 152/300\n",
            "165/165 [==============================] - 0s 361us/step - loss: 0.0045\n",
            "Epoch 153/300\n",
            "165/165 [==============================] - 0s 375us/step - loss: 0.0046\n",
            "Epoch 154/300\n",
            "165/165 [==============================] - 0s 361us/step - loss: 0.0043\n",
            "Epoch 155/300\n",
            "165/165 [==============================] - 0s 381us/step - loss: 0.0041\n",
            "Epoch 156/300\n",
            "165/165 [==============================] - 0s 359us/step - loss: 0.0041\n",
            "Epoch 157/300\n",
            "165/165 [==============================] - 0s 371us/step - loss: 0.0044\n",
            "Epoch 158/300\n",
            "165/165 [==============================] - 0s 347us/step - loss: 0.0043\n",
            "Epoch 159/300\n",
            "165/165 [==============================] - 0s 360us/step - loss: 0.0043\n",
            "Epoch 160/300\n",
            "165/165 [==============================] - 0s 360us/step - loss: 0.0037\n",
            "Epoch 161/300\n",
            "165/165 [==============================] - 0s 375us/step - loss: 0.0041\n",
            "Epoch 162/300\n",
            "165/165 [==============================] - 0s 361us/step - loss: 0.0046\n",
            "Epoch 163/300\n",
            "165/165 [==============================] - 0s 358us/step - loss: 0.0037\n",
            "Epoch 164/300\n",
            "165/165 [==============================] - 0s 373us/step - loss: 0.0040\n",
            "Epoch 165/300\n",
            "165/165 [==============================] - 0s 420us/step - loss: 0.0043\n",
            "Epoch 166/300\n",
            "165/165 [==============================] - 0s 355us/step - loss: 0.0044\n",
            "Epoch 167/300\n",
            "165/165 [==============================] - 0s 356us/step - loss: 0.0042\n",
            "Epoch 168/300\n",
            "165/165 [==============================] - 0s 366us/step - loss: 0.0032\n",
            "Epoch 169/300\n",
            "165/165 [==============================] - 0s 362us/step - loss: 0.0036\n",
            "Epoch 170/300\n",
            "165/165 [==============================] - 0s 368us/step - loss: 0.0037\n",
            "Epoch 171/300\n",
            "165/165 [==============================] - 0s 372us/step - loss: 0.0036\n",
            "Epoch 172/300\n",
            "165/165 [==============================] - 0s 375us/step - loss: 0.0037\n",
            "Epoch 173/300\n",
            "165/165 [==============================] - 0s 371us/step - loss: 0.0040\n",
            "Epoch 174/300\n",
            "165/165 [==============================] - 0s 357us/step - loss: 0.0038\n",
            "Epoch 175/300\n",
            "165/165 [==============================] - 0s 388us/step - loss: 0.0036\n",
            "Epoch 176/300\n",
            "165/165 [==============================] - 0s 366us/step - loss: 0.0048\n",
            "Epoch 177/300\n",
            "165/165 [==============================] - 0s 357us/step - loss: 0.0044\n",
            "Epoch 178/300\n",
            "165/165 [==============================] - 0s 393us/step - loss: 0.0032\n",
            "Epoch 179/300\n",
            "165/165 [==============================] - 0s 394us/step - loss: 0.0038\n",
            "Epoch 180/300\n",
            "165/165 [==============================] - 0s 365us/step - loss: 0.0039\n",
            "Epoch 181/300\n",
            "165/165 [==============================] - 0s 436us/step - loss: 0.0036\n",
            "Epoch 182/300\n",
            "165/165 [==============================] - 0s 375us/step - loss: 0.0037\n",
            "Epoch 183/300\n",
            "165/165 [==============================] - 0s 357us/step - loss: 0.0037\n",
            "Epoch 184/300\n",
            "165/165 [==============================] - 0s 372us/step - loss: 0.0036\n",
            "Epoch 185/300\n",
            "165/165 [==============================] - 0s 348us/step - loss: 0.0037\n",
            "Epoch 186/300\n",
            "165/165 [==============================] - 0s 355us/step - loss: 0.0037\n",
            "Epoch 187/300\n",
            "165/165 [==============================] - 0s 378us/step - loss: 0.0037\n",
            "Epoch 188/300\n",
            "165/165 [==============================] - 0s 359us/step - loss: 0.0035\n",
            "Epoch 189/300\n",
            "165/165 [==============================] - 0s 363us/step - loss: 0.0037\n",
            "Epoch 190/300\n",
            "165/165 [==============================] - 0s 368us/step - loss: 0.0040\n",
            "Epoch 191/300\n",
            "165/165 [==============================] - 0s 388us/step - loss: 0.0036\n",
            "Epoch 192/300\n",
            "165/165 [==============================] - 0s 374us/step - loss: 0.0034\n",
            "Epoch 193/300\n",
            "165/165 [==============================] - 0s 344us/step - loss: 0.0046\n",
            "Epoch 194/300\n",
            "165/165 [==============================] - 0s 410us/step - loss: 0.0040\n",
            "Epoch 195/300\n",
            "165/165 [==============================] - 0s 399us/step - loss: 0.0040\n",
            "Epoch 196/300\n",
            "165/165 [==============================] - 0s 380us/step - loss: 0.0045\n",
            "Epoch 197/300\n",
            "165/165 [==============================] - 0s 412us/step - loss: 0.0030\n",
            "Epoch 198/300\n",
            "165/165 [==============================] - 0s 361us/step - loss: 0.0042\n",
            "Epoch 199/300\n",
            "165/165 [==============================] - 0s 353us/step - loss: 0.0031\n",
            "Epoch 200/300\n",
            "165/165 [==============================] - 0s 362us/step - loss: 0.0034\n",
            "Epoch 201/300\n",
            "165/165 [==============================] - 0s 351us/step - loss: 0.0033\n",
            "Epoch 202/300\n",
            "165/165 [==============================] - 0s 358us/step - loss: 0.0040\n",
            "Epoch 203/300\n",
            "165/165 [==============================] - 0s 366us/step - loss: 0.0032\n",
            "Epoch 204/300\n",
            "165/165 [==============================] - 0s 370us/step - loss: 0.0032\n",
            "Epoch 205/300\n",
            "165/165 [==============================] - 0s 370us/step - loss: 0.0037\n",
            "Epoch 206/300\n",
            "165/165 [==============================] - 0s 357us/step - loss: 0.0040\n",
            "Epoch 207/300\n",
            "165/165 [==============================] - 0s 374us/step - loss: 0.0041\n",
            "Epoch 208/300\n",
            "165/165 [==============================] - 0s 358us/step - loss: 0.0035\n",
            "Epoch 209/300\n",
            "165/165 [==============================] - 0s 375us/step - loss: 0.0035\n",
            "Epoch 210/300\n",
            "165/165 [==============================] - 0s 351us/step - loss: 0.0038\n",
            "Epoch 211/300\n",
            "165/165 [==============================] - 0s 365us/step - loss: 0.0040\n",
            "Epoch 212/300\n",
            "165/165 [==============================] - 0s 378us/step - loss: 0.0036\n",
            "Epoch 213/300\n",
            "165/165 [==============================] - 0s 378us/step - loss: 0.0036\n",
            "Epoch 214/300\n",
            "165/165 [==============================] - 0s 414us/step - loss: 0.0034\n",
            "Epoch 215/300\n",
            "165/165 [==============================] - 0s 360us/step - loss: 0.0036\n",
            "Epoch 216/300\n",
            "165/165 [==============================] - 0s 351us/step - loss: 0.0038\n",
            "Epoch 217/300\n",
            "165/165 [==============================] - 0s 349us/step - loss: 0.0036\n",
            "Epoch 218/300\n",
            "165/165 [==============================] - 0s 372us/step - loss: 0.0034\n",
            "Epoch 219/300\n",
            "165/165 [==============================] - 0s 366us/step - loss: 0.0037\n",
            "Epoch 220/300\n",
            "165/165 [==============================] - 0s 365us/step - loss: 0.0038\n",
            "Epoch 221/300\n",
            "165/165 [==============================] - 0s 376us/step - loss: 0.0040\n",
            "Epoch 222/300\n",
            "165/165 [==============================] - 0s 355us/step - loss: 0.0032\n",
            "Epoch 223/300\n",
            "165/165 [==============================] - 0s 373us/step - loss: 0.0038\n",
            "Epoch 224/300\n",
            "165/165 [==============================] - 0s 405us/step - loss: 0.0036\n",
            "Epoch 225/300\n",
            "165/165 [==============================] - 0s 358us/step - loss: 0.0035\n",
            "Epoch 226/300\n",
            "165/165 [==============================] - 0s 371us/step - loss: 0.0033\n",
            "Epoch 227/300\n",
            "165/165 [==============================] - 0s 364us/step - loss: 0.0036\n",
            "Epoch 228/300\n",
            "165/165 [==============================] - 0s 420us/step - loss: 0.0038\n",
            "Epoch 229/300\n",
            "165/165 [==============================] - 0s 373us/step - loss: 0.0035\n",
            "Epoch 230/300\n",
            "165/165 [==============================] - 0s 430us/step - loss: 0.0040\n",
            "Epoch 231/300\n",
            "165/165 [==============================] - 0s 345us/step - loss: 0.0032\n",
            "Epoch 232/300\n",
            "165/165 [==============================] - 0s 391us/step - loss: 0.0033\n",
            "Epoch 233/300\n",
            "165/165 [==============================] - 0s 356us/step - loss: 0.0028\n",
            "Epoch 234/300\n",
            "165/165 [==============================] - 0s 370us/step - loss: 0.0034\n",
            "Epoch 235/300\n",
            "165/165 [==============================] - 0s 391us/step - loss: 0.0040\n",
            "Epoch 236/300\n",
            "165/165 [==============================] - 0s 357us/step - loss: 0.0038\n",
            "Epoch 237/300\n",
            "165/165 [==============================] - 0s 371us/step - loss: 0.0036\n",
            "Epoch 238/300\n",
            "165/165 [==============================] - 0s 361us/step - loss: 0.0031\n",
            "Epoch 239/300\n",
            "165/165 [==============================] - 0s 385us/step - loss: 0.0037\n",
            "Epoch 240/300\n",
            "165/165 [==============================] - 0s 401us/step - loss: 0.0040\n",
            "Epoch 241/300\n",
            "165/165 [==============================] - 0s 400us/step - loss: 0.0037\n",
            "Epoch 242/300\n",
            "165/165 [==============================] - 0s 400us/step - loss: 0.0033\n",
            "Epoch 243/300\n",
            "165/165 [==============================] - 0s 382us/step - loss: 0.0033\n",
            "Epoch 244/300\n",
            "165/165 [==============================] - 0s 374us/step - loss: 0.0036\n",
            "Epoch 245/300\n",
            "165/165 [==============================] - 0s 362us/step - loss: 0.0035\n",
            "Epoch 246/300\n",
            "165/165 [==============================] - 0s 409us/step - loss: 0.0029\n",
            "Epoch 247/300\n",
            "165/165 [==============================] - 0s 362us/step - loss: 0.0033\n",
            "Epoch 248/300\n",
            "165/165 [==============================] - 0s 369us/step - loss: 0.0035\n",
            "Epoch 249/300\n",
            "165/165 [==============================] - 0s 370us/step - loss: 0.0037\n",
            "Epoch 250/300\n",
            "165/165 [==============================] - 0s 353us/step - loss: 0.0026\n",
            "Epoch 251/300\n",
            "165/165 [==============================] - 0s 382us/step - loss: 0.0032\n",
            "Epoch 252/300\n",
            "165/165 [==============================] - 0s 364us/step - loss: 0.0037\n",
            "Epoch 253/300\n",
            "165/165 [==============================] - 0s 362us/step - loss: 0.0032\n",
            "Epoch 254/300\n",
            "165/165 [==============================] - 0s 371us/step - loss: 0.0032\n",
            "Epoch 255/300\n",
            "165/165 [==============================] - 0s 365us/step - loss: 0.0035\n",
            "Epoch 256/300\n",
            "165/165 [==============================] - 0s 380us/step - loss: 0.0031\n",
            "Epoch 257/300\n",
            "165/165 [==============================] - 0s 374us/step - loss: 0.0034\n",
            "Epoch 258/300\n",
            "165/165 [==============================] - 0s 377us/step - loss: 0.0034\n",
            "Epoch 259/300\n",
            "165/165 [==============================] - 0s 371us/step - loss: 0.0035\n",
            "Epoch 260/300\n",
            "165/165 [==============================] - 0s 366us/step - loss: 0.0039\n",
            "Epoch 261/300\n",
            "165/165 [==============================] - 0s 386us/step - loss: 0.0038\n",
            "Epoch 262/300\n",
            "165/165 [==============================] - 0s 379us/step - loss: 0.0033\n",
            "Epoch 263/300\n",
            "165/165 [==============================] - 0s 384us/step - loss: 0.0039\n",
            "Epoch 264/300\n",
            "165/165 [==============================] - 0s 398us/step - loss: 0.0037\n",
            "Epoch 265/300\n",
            "165/165 [==============================] - 0s 359us/step - loss: 0.0032\n",
            "Epoch 266/300\n",
            "165/165 [==============================] - 0s 366us/step - loss: 0.0032\n",
            "Epoch 267/300\n",
            "165/165 [==============================] - 0s 358us/step - loss: 0.0043\n",
            "Epoch 268/300\n",
            "165/165 [==============================] - 0s 370us/step - loss: 0.0030\n",
            "Epoch 269/300\n",
            "165/165 [==============================] - 0s 368us/step - loss: 0.0030\n",
            "Epoch 270/300\n",
            "165/165 [==============================] - 0s 355us/step - loss: 0.0032\n",
            "Epoch 271/300\n",
            "165/165 [==============================] - 0s 349us/step - loss: 0.0029\n",
            "Epoch 272/300\n",
            "165/165 [==============================] - 0s 367us/step - loss: 0.0029\n",
            "Epoch 273/300\n",
            "165/165 [==============================] - 0s 370us/step - loss: 0.0032\n",
            "Epoch 274/300\n",
            "165/165 [==============================] - 0s 359us/step - loss: 0.0039\n",
            "Epoch 275/300\n",
            "165/165 [==============================] - 0s 378us/step - loss: 0.0033\n",
            "Epoch 276/300\n",
            "165/165 [==============================] - 0s 367us/step - loss: 0.0029\n",
            "Epoch 277/300\n",
            "165/165 [==============================] - 0s 367us/step - loss: 0.0033\n",
            "Epoch 278/300\n",
            "165/165 [==============================] - 0s 358us/step - loss: 0.0029\n",
            "Epoch 279/300\n",
            "165/165 [==============================] - 0s 432us/step - loss: 0.0035\n",
            "Epoch 280/300\n",
            "165/165 [==============================] - 0s 361us/step - loss: 0.0030\n",
            "Epoch 281/300\n",
            "165/165 [==============================] - 0s 356us/step - loss: 0.0037\n",
            "Epoch 282/300\n",
            "165/165 [==============================] - 0s 352us/step - loss: 0.0029\n",
            "Epoch 283/300\n",
            "165/165 [==============================] - 0s 388us/step - loss: 0.0032\n",
            "Epoch 284/300\n",
            "165/165 [==============================] - 0s 363us/step - loss: 0.0031\n",
            "Epoch 285/300\n",
            "165/165 [==============================] - 0s 377us/step - loss: 0.0030\n",
            "Epoch 286/300\n",
            "165/165 [==============================] - 0s 379us/step - loss: 0.0029\n",
            "Epoch 287/300\n",
            "165/165 [==============================] - 0s 348us/step - loss: 0.0031\n",
            "Epoch 288/300\n",
            "165/165 [==============================] - 0s 365us/step - loss: 0.0032\n",
            "Epoch 289/300\n",
            "165/165 [==============================] - 0s 355us/step - loss: 0.0038\n",
            "Epoch 290/300\n",
            "165/165 [==============================] - 0s 384us/step - loss: 0.0031\n",
            "Epoch 291/300\n",
            "165/165 [==============================] - 0s 370us/step - loss: 0.0027\n",
            "Epoch 292/300\n",
            "165/165 [==============================] - 0s 360us/step - loss: 0.0032\n",
            "Epoch 293/300\n",
            "165/165 [==============================] - 0s 374us/step - loss: 0.0024\n",
            "Epoch 294/300\n",
            "165/165 [==============================] - 0s 364us/step - loss: 0.0032\n",
            "Epoch 295/300\n",
            "165/165 [==============================] - 0s 384us/step - loss: 0.0028\n",
            "Epoch 296/300\n",
            "165/165 [==============================] - 0s 401us/step - loss: 0.0033\n",
            "Epoch 297/300\n",
            "165/165 [==============================] - 0s 364us/step - loss: 0.0030\n",
            "Epoch 298/300\n",
            "165/165 [==============================] - 0s 372us/step - loss: 0.0030\n",
            "Epoch 299/300\n",
            "165/165 [==============================] - 0s 377us/step - loss: 0.0032\n",
            "Epoch 300/300\n",
            "165/165 [==============================] - 0s 351us/step - loss: 0.0028\n"
          ],
          "name": "stdout"
        }
      ]
    },
    {
      "cell_type": "markdown",
      "metadata": {
        "id": "fb_5jrXmR11D",
        "colab_type": "text"
      },
      "source": [
        "## Predict"
      ]
    },
    {
      "cell_type": "code",
      "metadata": {
        "id": "nVsAS_V7QkY0",
        "colab_type": "code",
        "colab": {}
      },
      "source": [
        "preds_val = model.predict(X_val)\n",
        "diff = []\n",
        "for i in range(len(y_val)):\n",
        "    pred = preds_val[i][0]\n",
        "    diff.append(y_val[i] - pred)"
      ],
      "execution_count": 0,
      "outputs": []
    },
    {
      "cell_type": "code",
      "metadata": {
        "id": "yhij8Wg3QkVx",
        "colab_type": "code",
        "colab": {
          "base_uri": "https://localhost:8080/",
          "height": 34
        },
        "outputId": "6b2f2b5e-3f54-43f3-dd6e-d9567e30fb2b"
      },
      "source": [
        "preds_val[0][0]"
      ],
      "execution_count": 29,
      "outputs": [
        {
          "output_type": "execute_result",
          "data": {
            "text/plain": [
              "0.9660213"
            ]
          },
          "metadata": {
            "tags": []
          },
          "execution_count": 29
        }
      ]
    },
    {
      "cell_type": "code",
      "metadata": {
        "id": "kOkAOrbDSh-N",
        "colab_type": "code",
        "colab": {
          "base_uri": "https://localhost:8080/",
          "height": 34
        },
        "outputId": "05ca7575-9117-4aff-d0cd-e8155537a5a3"
      },
      "source": [
        "y_val[0]"
      ],
      "execution_count": 30,
      "outputs": [
        {
          "output_type": "execute_result",
          "data": {
            "text/plain": [
              "0.9950432826389483"
            ]
          },
          "metadata": {
            "tags": []
          },
          "execution_count": 30
        }
      ]
    },
    {
      "cell_type": "markdown",
      "metadata": {
        "id": "wX0TmZLiUXgs",
        "colab_type": "text"
      },
      "source": [
        "### Convert the predict back to original meaning (before MinMaxScaler)"
      ]
    },
    {
      "cell_type": "code",
      "metadata": {
        "id": "dlERVzPmTSaD",
        "colab_type": "code",
        "colab": {
          "base_uri": "https://localhost:8080/",
          "height": 52
        },
        "outputId": "f54c876d-f89a-45fe-bd1b-a5a7f532b5c1"
      },
      "source": [
        "real_min = preprocessor.data_min_[104]\n",
        "real_max = preprocessor.data_max_[104]\n",
        "\n",
        "print(preprocessor.data_min_[104])\n",
        "print(preprocessor.data_max_[104])\n",
        "\n",
        "preds_real = preds_val * (real_max - real_min) + real_min\n",
        "y_val_real = y_val * (real_max - real_min) + real_min"
      ],
      "execution_count": 31,
      "outputs": [
        {
          "output_type": "stream",
          "text": [
            "1172.060059\n",
            "5128.279785\n"
          ],
          "name": "stdout"
        }
      ]
    },
    {
      "cell_type": "code",
      "metadata": {
        "id": "HAX6Z1_YTSXV",
        "colab_type": "code",
        "colab": {
          "base_uri": "https://localhost:8080/",
          "height": 282
        },
        "outputId": "6a9e66fa-4cc4-4b9c-fb16-27b0e0a752ad"
      },
      "source": [
        "plt.plot(preds_real, label='Predictions')\n",
        "plt.plot(y_val_real, label='Actual values')\n",
        "plt.xlabel('test')\n",
        "plt.legend(loc=0)\n",
        "plt.show()"
      ],
      "execution_count": 32,
      "outputs": [
        {
          "output_type": "display_data",
          "data": {
            "image/png": "[encoded data removed]",
            "text/plain": [
              "<Figure size 432x288 with 1 Axes>"
            ]
          },
          "metadata": {
            "tags": []
          }
        }
      ]
    },
    {
      "cell_type": "code",
      "metadata": {
        "id": "ngsBYoB8UsPs",
        "colab_type": "code",
        "colab": {}
      },
      "source": [
        ""
      ],
      "execution_count": 0,
      "outputs": []
    }
  ]
}
{
  "nbformat": 4,
  "nbformat_minor": 0,
  "metadata": {
    "colab": {
      "name": "Optimizing_with_batch_nomalization.ipynb",
      "version": "0.3.2",
      "provenance": [],
      "collapsed_sections": [],
      "include_colab_link": true
    },
    "kernelspec": {
      "name": "python3",
      "display_name": "Python 3"
    },
    "accelerator": "GPU"
  },
  "cells": [
    {
      "cell_type": "markdown",
      "metadata": {
        "id": "view-in-github",
        "colab_type": "text"
      },
      "source": [
        "<a href=\"https://colab.research.google.com/github/BenjaminDKLuong/Colab_Notes/blob/master/Optimizing_with_batch_nomalization.ipynb\" target=\"_parent\"><img src=\"https://colab.research.google.com/assets/colab-badge.svg\" alt=\"Open In Colab\"/></a>"
      ]
    },
    {
      "cell_type": "code",
      "metadata": {
        "id": "ehZqGzhzcnzi",
        "colab_type": "code",
        "colab": {
          "base_uri": "https://localhost:8080/",
          "height": 34
        },
        "outputId": "d72f53e1-aeb7-47e1-a5b8-7516655c1888"
      },
      "source": [
        "import numpy as np\n",
        "from matplotlib import pyplot as plt\n",
        "\n",
        "from keras.utils import np_utils\n",
        "from keras.models import Sequential\n",
        "from keras.layers.core import Dense, Dropout, Activation, Flatten\n",
        "from keras.callbacks import EarlyStopping\n",
        "from keras.layers import Conv2D, MaxPooling2D\n",
        "from keras.layers.normalization import BatchNormalization"
      ],
      "execution_count": 1,
      "outputs": [
        {
          "output_type": "stream",
          "text": [
            "Using TensorFlow backend.\n"
          ],
          "name": "stderr"
        }
      ]
    },
    {
      "cell_type": "code",
      "metadata": {
        "id": "R_-bnTWuJ5lU",
        "colab_type": "code",
        "colab": {
          "base_uri": "https://localhost:8080/",
          "height": 52
        },
        "outputId": "a209201a-a80d-4d07-d8e9-952d43dbd0ee"
      },
      "source": [
        "from keras.datasets import cifar10\n",
        "(X_train, y_train), (X_val, y_val) = cifar10.load_data()"
      ],
      "execution_count": 2,
      "outputs": [
        {
          "output_type": "stream",
          "text": [
            "Downloading data from https://www.cs.toronto.edu/~kriz/cifar-10-python.tar.gz\n",
            "170500096/170498071 [==============================] - 44s 0us/step\n"
          ],
          "name": "stdout"
        }
      ]
    },
    {
      "cell_type": "code",
      "metadata": {
        "id": "mtDnia3VK0TF",
        "colab_type": "code",
        "colab": {}
      },
      "source": [
        "X_train = X_train.astype('float32')/255.\n",
        "X_val = X_val.astype('float32')/255."
      ],
      "execution_count": 0,
      "outputs": []
    },
    {
      "cell_type": "code",
      "metadata": {
        "id": "QrscyVQaKFkc",
        "colab_type": "code",
        "colab": {}
      },
      "source": [
        "n_classes = 10\n",
        "y_train = np_utils.to_categorical(y_train, n_classes)\n",
        "y_val = np_utils.to_categorical(y_val, n_classes)\n"
      ],
      "execution_count": 0,
      "outputs": []
    },
    {
      "cell_type": "code",
      "metadata": {
        "id": "gC5nqslSKFhU",
        "colab_type": "code",
        "colab": {
          "base_uri": "https://localhost:8080/",
          "height": 1085
        },
        "outputId": "5fc68422-934b-48fe-e945-e1a8597b692c"
      },
      "source": [
        "input_shape = X_train[0].shape\n",
        "\n",
        "model = Sequential()\n",
        "\n",
        "model.add(Conv2D(32, kernel_size=(3, 3), input_shape=input_shape, padding='same'))\n",
        "model.add(Activation('relu'))\n",
        "model.add(Conv2D(32, kernel_size=(3, 3), padding='same'))\n",
        "model.add(Activation('relu'))\n",
        "model.add(MaxPooling2D(pool_size=(2, 2), padding='same'))\n",
        "\n",
        "model.add(Dropout(0.25))\n",
        "\n",
        "model.add(Conv2D(64, kernel_size=(3, 3), padding='same'))\n",
        "model.add(Activation('relu'))\n",
        "model.add(Conv2D(64, kernel_size=(3, 3), padding='same'))\n",
        "model.add(Activation('relu'))\n",
        "model.add(MaxPooling2D(pool_size=(2, 2), padding='same'))\n",
        "\n",
        "model.add(Dropout(0.25))\n",
        "\n",
        "model.add(Conv2D(128, kernel_size=(3, 3), padding='same'))\n",
        "model.add(Activation('relu'))\n",
        "model.add(Conv2D(128, kernel_size=(3, 3), padding='same'))\n",
        "model.add(Activation('relu'))\n",
        "model.add(MaxPooling2D(pool_size=(2, 2), padding='same'))\n",
        "\n",
        "model.add(Dropout(0.25))\n",
        "\n",
        "model.add(Flatten())\n",
        "model.add(Dense(512, activation='relu'))\n",
        "model.add(Dropout(0.5))\n",
        "model.add(Dense(128, activation='relu'))\n",
        "model.add(Dense(n_classes, activation='softmax'))\n",
        "\n",
        "model.compile(loss='categorical_crossentropy', optimizer='adam', metrics=['accuracy'])\n",
        "model.summary()\n"
      ],
      "execution_count": 5,
      "outputs": [
        {
          "output_type": "stream",
          "text": [
            "WARNING:tensorflow:From /usr/local/lib/python3.6/dist-packages/tensorflow/python/framework/op_def_library.py:263: colocate_with (from tensorflow.python.framework.ops) is deprecated and will be removed in a future version.\n",
            "Instructions for updating:\n",
            "Colocations handled automatically by placer.\n",
            "WARNING:tensorflow:From /usr/local/lib/python3.6/dist-packages/keras/backend/tensorflow_backend.py:3445: calling dropout (from tensorflow.python.ops.nn_ops) with keep_prob is deprecated and will be removed in a future version.\n",
            "Instructions for updating:\n",
            "Please use `rate` instead of `keep_prob`. Rate should be set to `rate = 1 - keep_prob`.\n",
            "_________________________________________________________________\n",
            "Layer (type)                 Output Shape              Param #   \n",
            "=================================================================\n",
            "conv2d_1 (Conv2D)            (None, 32, 32, 32)        896       \n",
            "_________________________________________________________________\n",
            "activation_1 (Activation)    (None, 32, 32, 32)        0         \n",
            "_________________________________________________________________\n",
            "conv2d_2 (Conv2D)            (None, 32, 32, 32)        9248      \n",
            "_________________________________________________________________\n",
            "activation_2 (Activation)    (None, 32, 32, 32)        0         \n",
            "_________________________________________________________________\n",
            "max_pooling2d_1 (MaxPooling2 (None, 16, 16, 32)        0         \n",
            "_________________________________________________________________\n",
            "dropout_1 (Dropout)          (None, 16, 16, 32)        0         \n",
            "_________________________________________________________________\n",
            "conv2d_3 (Conv2D)            (None, 16, 16, 64)        18496     \n",
            "_________________________________________________________________\n",
            "activation_3 (Activation)    (None, 16, 16, 64)        0         \n",
            "_________________________________________________________________\n",
            "conv2d_4 (Conv2D)            (None, 16, 16, 64)        36928     \n",
            "_________________________________________________________________\n",
            "activation_4 (Activation)    (None, 16, 16, 64)        0         \n",
            "_________________________________________________________________\n",
            "max_pooling2d_2 (MaxPooling2 (None, 8, 8, 64)          0         \n",
            "_________________________________________________________________\n",
            "dropout_2 (Dropout)          (None, 8, 8, 64)          0         \n",
            "_________________________________________________________________\n",
            "conv2d_5 (Conv2D)            (None, 8, 8, 128)         73856     \n",
            "_________________________________________________________________\n",
            "activation_5 (Activation)    (None, 8, 8, 128)         0         \n",
            "_________________________________________________________________\n",
            "conv2d_6 (Conv2D)            (None, 8, 8, 128)         147584    \n",
            "_________________________________________________________________\n",
            "activation_6 (Activation)    (None, 8, 8, 128)         0         \n",
            "_________________________________________________________________\n",
            "max_pooling2d_3 (MaxPooling2 (None, 4, 4, 128)         0         \n",
            "_________________________________________________________________\n",
            "dropout_3 (Dropout)          (None, 4, 4, 128)         0         \n",
            "_________________________________________________________________\n",
            "flatten_1 (Flatten)          (None, 2048)              0         \n",
            "_________________________________________________________________\n",
            "dense_1 (Dense)              (None, 512)               1049088   \n",
            "_________________________________________________________________\n",
            "dropout_4 (Dropout)          (None, 512)               0         \n",
            "_________________________________________________________________\n",
            "dense_2 (Dense)              (None, 128)               65664     \n",
            "_________________________________________________________________\n",
            "dense_3 (Dense)              (None, 10)                1290      \n",
            "=================================================================\n",
            "Total params: 1,403,050\n",
            "Trainable params: 1,403,050\n",
            "Non-trainable params: 0\n",
            "_________________________________________________________________\n"
          ],
          "name": "stdout"
        }
      ]
    },
    {
      "cell_type": "code",
      "metadata": {
        "id": "KZoKu8lNgOZL",
        "colab_type": "code",
        "colab": {}
      },
      "source": [
        "callbacks = [EarlyStopping(monitor='val_acc', patience=5, verbose=1)]\n"
      ],
      "execution_count": 0,
      "outputs": []
    },
    {
      "cell_type": "code",
      "metadata": {
        "id": "mxF2E7fNgOcB",
        "colab_type": "code",
        "colab": {}
      },
      "source": [
        "batch_size = 256\n",
        "n_epochs = 300\n"
      ],
      "execution_count": 0,
      "outputs": []
    },
    {
      "cell_type": "code",
      "metadata": {
        "id": "jq2ky3dfgOfB",
        "colab_type": "code",
        "colab": {
          "base_uri": "https://localhost:8080/",
          "height": 1512
        },
        "outputId": "5bdc1a5d-68e3-41fb-e09b-bcb0bab1138d"
      },
      "source": [
        "history = model.fit(X_train, y_train, batch_size=batch_size, \n",
        "                    epochs=n_epochs, verbose=1, \n",
        "                    validation_data=(X_val, y_val), \n",
        "                    callbacks=callbacks)"
      ],
      "execution_count": 8,
      "outputs": [
        {
          "output_type": "stream",
          "text": [
            "WARNING:tensorflow:From /usr/local/lib/python3.6/dist-packages/tensorflow/python/ops/math_ops.py:3066: to_int32 (from tensorflow.python.ops.math_ops) is deprecated and will be removed in a future version.\n",
            "Instructions for updating:\n",
            "Use tf.cast instead.\n",
            "Train on 50000 samples, validate on 10000 samples\n",
            "Epoch 1/300\n",
            "50000/50000 [==============================] - 13s 255us/step - loss: 1.8514 - acc: 0.3075 - val_loss: 1.5491 - val_acc: 0.4248\n",
            "Epoch 2/300\n",
            "50000/50000 [==============================] - 6s 112us/step - loss: 1.4057 - acc: 0.4849 - val_loss: 1.2154 - val_acc: 0.5608\n",
            "Epoch 3/300\n",
            "50000/50000 [==============================] - 6s 113us/step - loss: 1.1821 - acc: 0.5732 - val_loss: 1.0547 - val_acc: 0.6160\n",
            "Epoch 4/300\n",
            "50000/50000 [==============================] - 6s 112us/step - loss: 1.0301 - acc: 0.6311 - val_loss: 0.9518 - val_acc: 0.6623\n",
            "Epoch 5/300\n",
            "50000/50000 [==============================] - 6s 113us/step - loss: 0.9346 - acc: 0.6676 - val_loss: 0.8595 - val_acc: 0.6975\n",
            "Epoch 6/300\n",
            "50000/50000 [==============================] - 6s 113us/step - loss: 0.8534 - acc: 0.6988 - val_loss: 0.8581 - val_acc: 0.6955\n",
            "Epoch 7/300\n",
            "50000/50000 [==============================] - 6s 113us/step - loss: 0.7972 - acc: 0.7202 - val_loss: 0.7284 - val_acc: 0.7459\n",
            "Epoch 8/300\n",
            "50000/50000 [==============================] - 6s 113us/step - loss: 0.7387 - acc: 0.7395 - val_loss: 0.6890 - val_acc: 0.7601\n",
            "Epoch 9/300\n",
            "50000/50000 [==============================] - 6s 113us/step - loss: 0.6929 - acc: 0.7564 - val_loss: 0.6668 - val_acc: 0.7694\n",
            "Epoch 10/300\n",
            "50000/50000 [==============================] - 6s 113us/step - loss: 0.6542 - acc: 0.7694 - val_loss: 0.6676 - val_acc: 0.7695\n",
            "Epoch 11/300\n",
            "50000/50000 [==============================] - 6s 114us/step - loss: 0.6224 - acc: 0.7815 - val_loss: 0.6883 - val_acc: 0.7652\n",
            "Epoch 12/300\n",
            "50000/50000 [==============================] - 6s 113us/step - loss: 0.5827 - acc: 0.7949 - val_loss: 0.6548 - val_acc: 0.7758\n",
            "Epoch 13/300\n",
            "50000/50000 [==============================] - 6s 115us/step - loss: 0.5621 - acc: 0.8007 - val_loss: 0.6179 - val_acc: 0.7913\n",
            "Epoch 14/300\n",
            "50000/50000 [==============================] - 6s 118us/step - loss: 0.5359 - acc: 0.8105 - val_loss: 0.6268 - val_acc: 0.7847\n",
            "Epoch 15/300\n",
            "50000/50000 [==============================] - 6s 115us/step - loss: 0.5232 - acc: 0.8163 - val_loss: 0.5986 - val_acc: 0.7943\n",
            "Epoch 16/300\n",
            "50000/50000 [==============================] - 6s 114us/step - loss: 0.4998 - acc: 0.8238 - val_loss: 0.5822 - val_acc: 0.8034\n",
            "Epoch 17/300\n",
            "50000/50000 [==============================] - 6s 114us/step - loss: 0.4764 - acc: 0.8322 - val_loss: 0.5657 - val_acc: 0.8105\n",
            "Epoch 18/300\n",
            "50000/50000 [==============================] - 6s 114us/step - loss: 0.4594 - acc: 0.8358 - val_loss: 0.5756 - val_acc: 0.8101\n",
            "Epoch 19/300\n",
            "50000/50000 [==============================] - 6s 116us/step - loss: 0.4463 - acc: 0.8432 - val_loss: 0.5980 - val_acc: 0.8072\n",
            "Epoch 20/300\n",
            "50000/50000 [==============================] - 6s 120us/step - loss: 0.4292 - acc: 0.8471 - val_loss: 0.5753 - val_acc: 0.8118\n",
            "Epoch 21/300\n",
            "50000/50000 [==============================] - 6s 117us/step - loss: 0.4160 - acc: 0.8532 - val_loss: 0.5550 - val_acc: 0.8195\n",
            "Epoch 22/300\n",
            "50000/50000 [==============================] - 6s 115us/step - loss: 0.4098 - acc: 0.8549 - val_loss: 0.5612 - val_acc: 0.8204\n",
            "Epoch 23/300\n",
            "50000/50000 [==============================] - 6s 115us/step - loss: 0.3832 - acc: 0.8638 - val_loss: 0.5594 - val_acc: 0.8197\n",
            "Epoch 24/300\n",
            "50000/50000 [==============================] - 6s 115us/step - loss: 0.3825 - acc: 0.8655 - val_loss: 0.5844 - val_acc: 0.8122\n",
            "Epoch 25/300\n",
            "50000/50000 [==============================] - 6s 115us/step - loss: 0.3692 - acc: 0.8682 - val_loss: 0.5689 - val_acc: 0.8212\n",
            "Epoch 26/300\n",
            "50000/50000 [==============================] - 6s 115us/step - loss: 0.3597 - acc: 0.8732 - val_loss: 0.5671 - val_acc: 0.8184\n",
            "Epoch 27/300\n",
            "50000/50000 [==============================] - 6s 118us/step - loss: 0.3485 - acc: 0.8756 - val_loss: 0.5679 - val_acc: 0.8227\n",
            "Epoch 28/300\n",
            "50000/50000 [==============================] - 6s 120us/step - loss: 0.3474 - acc: 0.8769 - val_loss: 0.5546 - val_acc: 0.8270\n",
            "Epoch 29/300\n",
            "50000/50000 [==============================] - 6s 116us/step - loss: 0.3380 - acc: 0.8786 - val_loss: 0.5653 - val_acc: 0.8215\n",
            "Epoch 30/300\n",
            "50000/50000 [==============================] - 6s 116us/step - loss: 0.3252 - acc: 0.8846 - val_loss: 0.5661 - val_acc: 0.8247\n",
            "Epoch 31/300\n",
            "50000/50000 [==============================] - 6s 116us/step - loss: 0.3238 - acc: 0.8848 - val_loss: 0.5623 - val_acc: 0.8191\n",
            "Epoch 32/300\n",
            "50000/50000 [==============================] - 6s 116us/step - loss: 0.3162 - acc: 0.8878 - val_loss: 0.6001 - val_acc: 0.8177\n",
            "Epoch 33/300\n",
            "50000/50000 [==============================] - 6s 116us/step - loss: 0.3105 - acc: 0.8906 - val_loss: 0.5538 - val_acc: 0.8304\n",
            "Epoch 34/300\n",
            "50000/50000 [==============================] - 6s 116us/step - loss: 0.3003 - acc: 0.8945 - val_loss: 0.5596 - val_acc: 0.8307\n",
            "Epoch 35/300\n",
            "50000/50000 [==============================] - 6s 116us/step - loss: 0.2903 - acc: 0.8968 - val_loss: 0.6049 - val_acc: 0.8155\n",
            "Epoch 36/300\n",
            "50000/50000 [==============================] - 6s 117us/step - loss: 0.3023 - acc: 0.8928 - val_loss: 0.5629 - val_acc: 0.8278\n",
            "Epoch 37/300\n",
            "50000/50000 [==============================] - 6s 116us/step - loss: 0.2872 - acc: 0.8972 - val_loss: 0.5896 - val_acc: 0.8165\n",
            "Epoch 38/300\n",
            "50000/50000 [==============================] - 6s 116us/step - loss: 0.2788 - acc: 0.9017 - val_loss: 0.6057 - val_acc: 0.8248\n",
            "Epoch 39/300\n",
            "50000/50000 [==============================] - 6s 116us/step - loss: 0.2802 - acc: 0.9000 - val_loss: 0.5905 - val_acc: 0.8208\n",
            "Epoch 00039: early stopping\n"
          ],
          "name": "stdout"
        }
      ]
    },
    {
      "cell_type": "markdown",
      "metadata": {
        "id": "SR7m41CogXxJ",
        "colab_type": "text"
      },
      "source": [
        "# Model with BatchNormalization"
      ]
    },
    {
      "cell_type": "code",
      "metadata": {
        "id": "QRyOajq4gOt9",
        "colab_type": "code",
        "colab": {
          "base_uri": "https://localhost:8080/",
          "height": 1207
        },
        "outputId": "106321ce-bbb2-4d1b-81b3-781489e31ca1"
      },
      "source": [
        "model_bn = Sequential()\n",
        "\n",
        "model_bn.add(Conv2D(32, kernel_size=(3, 3), input_shape=input_shape, padding='same'))\n",
        "model_bn.add(Activation('relu'))\n",
        "model_bn.add(BatchNormalization())\n",
        "model_bn.add(Conv2D(32, kernel_size=(3, 3), padding='same'))\n",
        "model_bn.add(Activation('relu'))\n",
        "model_bn.add(BatchNormalization())\n",
        "model_bn.add(MaxPooling2D(pool_size=(2, 2), padding='same'))\n",
        "\n",
        "model_bn.add(Dropout(0.25))\n",
        "\n",
        "model_bn.add(Conv2D(64, kernel_size=(3, 3), padding='same'))\n",
        "model_bn.add(Activation('relu'))\n",
        "model_bn.add(BatchNormalization())\n",
        "model_bn.add(Conv2D(64, kernel_size=(3, 3), padding='same'))\n",
        "model_bn.add(Activation('relu'))\n",
        "model_bn.add(BatchNormalization())\n",
        "model_bn.add(MaxPooling2D(pool_size=(2, 2), padding='same'))\n",
        "\n",
        "model_bn.add(Dropout(0.25))\n",
        "\n",
        "model_bn.add(Conv2D(128, kernel_size=(3, 3), padding='same'))\n",
        "model_bn.add(Activation('relu'))\n",
        "model_bn.add(BatchNormalization())\n",
        "model_bn.add(Conv2D(128, kernel_size=(3, 3), padding='same'))\n",
        "model_bn.add(Activation('relu'))\n",
        "model_bn.add(BatchNormalization())\n",
        "model_bn.add(MaxPooling2D(pool_size=(2, 2), padding='same'))\n",
        "\n",
        "model_bn.add(Dropout(0.25))\n",
        "\n",
        "model_bn.add(Flatten())\n",
        "model_bn.add(Dense(512, activation='relu'))\n",
        "model_bn.add(BatchNormalization())\n",
        "model_bn.add(Dropout(0.5))\n",
        "model_bn.add(Dense(128, activation='relu'))\n",
        "model_bn.add(Dense(n_classes, activation='softmax'))\n",
        "\n",
        "model_bn.compile(loss='categorical_crossentropy', optimizer='adam', metrics=['accuracy'])\n",
        "model_bn.summary()"
      ],
      "execution_count": 9,
      "outputs": [
        {
          "output_type": "stream",
          "text": [
            "_________________________________________________________________\n",
            "Layer (type)                 Output Shape              Param #   \n",
            "=================================================================\n",
            "conv2d_7 (Conv2D)            (None, 32, 32, 32)        896       \n",
            "_________________________________________________________________\n",
            "activation_7 (Activation)    (None, 32, 32, 32)        0         \n",
            "_________________________________________________________________\n",
            "batch_normalization_1 (Batch (None, 32, 32, 32)        128       \n",
            "_________________________________________________________________\n",
            "conv2d_8 (Conv2D)            (None, 32, 32, 32)        9248      \n",
            "_________________________________________________________________\n",
            "activation_8 (Activation)    (None, 32, 32, 32)        0         \n",
            "_________________________________________________________________\n",
            "batch_normalization_2 (Batch (None, 32, 32, 32)        128       \n",
            "_________________________________________________________________\n",
            "max_pooling2d_4 (MaxPooling2 (None, 16, 16, 32)        0         \n",
            "_________________________________________________________________\n",
            "dropout_5 (Dropout)          (None, 16, 16, 32)        0         \n",
            "_________________________________________________________________\n",
            "conv2d_9 (Conv2D)            (None, 16, 16, 64)        18496     \n",
            "_________________________________________________________________\n",
            "activation_9 (Activation)    (None, 16, 16, 64)        0         \n",
            "_________________________________________________________________\n",
            "batch_normalization_3 (Batch (None, 16, 16, 64)        256       \n",
            "_________________________________________________________________\n",
            "conv2d_10 (Conv2D)           (None, 16, 16, 64)        36928     \n",
            "_________________________________________________________________\n",
            "activation_10 (Activation)   (None, 16, 16, 64)        0         \n",
            "_________________________________________________________________\n",
            "batch_normalization_4 (Batch (None, 16, 16, 64)        256       \n",
            "_________________________________________________________________\n",
            "max_pooling2d_5 (MaxPooling2 (None, 8, 8, 64)          0         \n",
            "_________________________________________________________________\n",
            "dropout_6 (Dropout)          (None, 8, 8, 64)          0         \n",
            "_________________________________________________________________\n",
            "conv2d_11 (Conv2D)           (None, 8, 8, 128)         73856     \n",
            "_________________________________________________________________\n",
            "activation_11 (Activation)   (None, 8, 8, 128)         0         \n",
            "_________________________________________________________________\n",
            "batch_normalization_5 (Batch (None, 8, 8, 128)         512       \n",
            "_________________________________________________________________\n",
            "conv2d_12 (Conv2D)           (None, 8, 8, 128)         147584    \n",
            "_________________________________________________________________\n",
            "activation_12 (Activation)   (None, 8, 8, 128)         0         \n",
            "_________________________________________________________________\n",
            "batch_normalization_6 (Batch (None, 8, 8, 128)         512       \n",
            "_________________________________________________________________\n",
            "max_pooling2d_6 (MaxPooling2 (None, 4, 4, 128)         0         \n",
            "_________________________________________________________________\n",
            "dropout_7 (Dropout)          (None, 4, 4, 128)         0         \n",
            "_________________________________________________________________\n",
            "flatten_2 (Flatten)          (None, 2048)              0         \n",
            "_________________________________________________________________\n",
            "dense_4 (Dense)              (None, 512)               1049088   \n",
            "_________________________________________________________________\n",
            "batch_normalization_7 (Batch (None, 512)               2048      \n",
            "_________________________________________________________________\n",
            "dropout_8 (Dropout)          (None, 512)               0         \n",
            "_________________________________________________________________\n",
            "dense_5 (Dense)              (None, 128)               65664     \n",
            "_________________________________________________________________\n",
            "dense_6 (Dense)              (None, 10)                1290      \n",
            "=================================================================\n",
            "Total params: 1,406,890\n",
            "Trainable params: 1,404,970\n",
            "Non-trainable params: 1,920\n",
            "_________________________________________________________________\n"
          ],
          "name": "stdout"
        }
      ]
    },
    {
      "cell_type": "code",
      "metadata": {
        "id": "n26V_pDEZrq7",
        "colab_type": "code",
        "colab": {
          "base_uri": "https://localhost:8080/",
          "height": 1210
        },
        "outputId": "c2c9717d-b978-4ea3-ff11-9c923f07c1f5"
      },
      "source": [
        "history_bn = model_bn.fit(X_train, y_train,\n",
        "          batch_size=batch_size,\n",
        "          epochs=n_epochs,\n",
        "          verbose=1,\n",
        "          validation_data=(X_val, y_val), callbacks=callbacks)\n"
      ],
      "execution_count": 10,
      "outputs": [
        {
          "output_type": "stream",
          "text": [
            "Train on 50000 samples, validate on 10000 samples\n",
            "Epoch 1/300\n",
            "50000/50000 [==============================] - 10s 194us/step - loss: 1.6558 - acc: 0.4239 - val_loss: 1.7074 - val_acc: 0.4462\n",
            "Epoch 2/300\n",
            "50000/50000 [==============================] - 8s 162us/step - loss: 1.1838 - acc: 0.5749 - val_loss: 1.0633 - val_acc: 0.6248\n",
            "Epoch 3/300\n",
            "50000/50000 [==============================] - 8s 165us/step - loss: 0.9567 - acc: 0.6587 - val_loss: 0.8732 - val_acc: 0.6981\n",
            "Epoch 4/300\n",
            "50000/50000 [==============================] - 8s 161us/step - loss: 0.8158 - acc: 0.7138 - val_loss: 0.7851 - val_acc: 0.7268\n",
            "Epoch 5/300\n",
            "50000/50000 [==============================] - 8s 161us/step - loss: 0.7321 - acc: 0.7404 - val_loss: 0.7354 - val_acc: 0.7476\n",
            "Epoch 6/300\n",
            "50000/50000 [==============================] - 8s 162us/step - loss: 0.6705 - acc: 0.7632 - val_loss: 0.7348 - val_acc: 0.7501\n",
            "Epoch 7/300\n",
            "50000/50000 [==============================] - 8s 160us/step - loss: 0.6192 - acc: 0.7819 - val_loss: 0.6512 - val_acc: 0.7755\n",
            "Epoch 8/300\n",
            "50000/50000 [==============================] - 8s 161us/step - loss: 0.5764 - acc: 0.7968 - val_loss: 0.6280 - val_acc: 0.7854\n",
            "Epoch 9/300\n",
            "50000/50000 [==============================] - 8s 161us/step - loss: 0.5328 - acc: 0.8140 - val_loss: 0.6796 - val_acc: 0.7709\n",
            "Epoch 10/300\n",
            "50000/50000 [==============================] - 8s 161us/step - loss: 0.4988 - acc: 0.8238 - val_loss: 0.5888 - val_acc: 0.8009\n",
            "Epoch 11/300\n",
            "50000/50000 [==============================] - 8s 163us/step - loss: 0.4668 - acc: 0.8342 - val_loss: 0.5574 - val_acc: 0.8112\n",
            "Epoch 12/300\n",
            "50000/50000 [==============================] - 8s 163us/step - loss: 0.4434 - acc: 0.8446 - val_loss: 0.5893 - val_acc: 0.8085\n",
            "Epoch 13/300\n",
            "50000/50000 [==============================] - 8s 161us/step - loss: 0.4171 - acc: 0.8537 - val_loss: 0.5730 - val_acc: 0.8125\n",
            "Epoch 14/300\n",
            "50000/50000 [==============================] - 8s 161us/step - loss: 0.3945 - acc: 0.8621 - val_loss: 0.5429 - val_acc: 0.8216\n",
            "Epoch 15/300\n",
            "50000/50000 [==============================] - 8s 160us/step - loss: 0.3680 - acc: 0.8703 - val_loss: 0.5301 - val_acc: 0.8273\n",
            "Epoch 16/300\n",
            "50000/50000 [==============================] - 8s 161us/step - loss: 0.3508 - acc: 0.8764 - val_loss: 0.5156 - val_acc: 0.8324\n",
            "Epoch 17/300\n",
            "50000/50000 [==============================] - 8s 160us/step - loss: 0.3364 - acc: 0.8813 - val_loss: 0.5541 - val_acc: 0.8239\n",
            "Epoch 18/300\n",
            "50000/50000 [==============================] - 8s 160us/step - loss: 0.3170 - acc: 0.8866 - val_loss: 0.5215 - val_acc: 0.8378\n",
            "Epoch 19/300\n",
            "50000/50000 [==============================] - 8s 161us/step - loss: 0.3066 - acc: 0.8894 - val_loss: 0.5529 - val_acc: 0.8244\n",
            "Epoch 20/300\n",
            "50000/50000 [==============================] - 8s 160us/step - loss: 0.2904 - acc: 0.8966 - val_loss: 0.5319 - val_acc: 0.8384\n",
            "Epoch 21/300\n",
            "50000/50000 [==============================] - 8s 164us/step - loss: 0.2707 - acc: 0.9027 - val_loss: 0.6690 - val_acc: 0.8004\n",
            "Epoch 22/300\n",
            "50000/50000 [==============================] - 8s 163us/step - loss: 0.2675 - acc: 0.9045 - val_loss: 0.5270 - val_acc: 0.8371\n",
            "Epoch 23/300\n",
            "50000/50000 [==============================] - 8s 160us/step - loss: 0.2561 - acc: 0.9087 - val_loss: 0.5544 - val_acc: 0.8365\n",
            "Epoch 24/300\n",
            "50000/50000 [==============================] - 8s 165us/step - loss: 0.2404 - acc: 0.9133 - val_loss: 0.5338 - val_acc: 0.8462\n",
            "Epoch 25/300\n",
            "50000/50000 [==============================] - 8s 163us/step - loss: 0.2308 - acc: 0.9186 - val_loss: 0.5280 - val_acc: 0.8471\n",
            "Epoch 26/300\n",
            "50000/50000 [==============================] - 8s 160us/step - loss: 0.2226 - acc: 0.9215 - val_loss: 0.5422 - val_acc: 0.8425\n",
            "Epoch 27/300\n",
            "50000/50000 [==============================] - 8s 160us/step - loss: 0.2218 - acc: 0.9206 - val_loss: 0.4946 - val_acc: 0.8545\n",
            "Epoch 28/300\n",
            "50000/50000 [==============================] - 8s 161us/step - loss: 0.2090 - acc: 0.9247 - val_loss: 0.5277 - val_acc: 0.8487\n",
            "Epoch 29/300\n",
            "50000/50000 [==============================] - 8s 160us/step - loss: 0.1999 - acc: 0.9277 - val_loss: 0.5211 - val_acc: 0.8514\n",
            "Epoch 30/300\n",
            "50000/50000 [==============================] - 8s 160us/step - loss: 0.1988 - acc: 0.9279 - val_loss: 0.5409 - val_acc: 0.8482\n",
            "Epoch 31/300\n",
            "50000/50000 [==============================] - 8s 164us/step - loss: 0.1911 - acc: 0.9315 - val_loss: 0.5182 - val_acc: 0.8536\n",
            "Epoch 32/300\n",
            "50000/50000 [==============================] - 8s 163us/step - loss: 0.1776 - acc: 0.9367 - val_loss: 0.5599 - val_acc: 0.8479\n",
            "Epoch 00032: early stopping\n"
          ],
          "name": "stdout"
        }
      ]
    },
    {
      "cell_type": "code",
      "metadata": {
        "id": "gk8KFbevgniR",
        "colab_type": "code",
        "colab": {
          "base_uri": "https://localhost:8080/",
          "height": 294
        },
        "outputId": "33d796d5-4d65-44db-89d9-62140e4a47f3"
      },
      "source": [
        "val_acc_bn = history_bn.history['val_acc']\n",
        "val_acc = history.history['val_acc']\n",
        "plt.plot(range(len(val_acc)), val_acc, label='CNN model')\n",
        "plt.plot(range(len(val_acc_bn)), val_acc_bn, label='CNN model with BN')\n",
        "plt.title('Validation accuracy on Cifar10 dataset')\n",
        "plt.xlabel('epochs')\n",
        "plt.ylabel('accuracy')\n",
        "plt.legend()\n",
        "plt.show()"
      ],
      "execution_count": 11,
      "outputs": [
        {
          "output_type": "display_data",
          "data": {
            "image/png": "[encoded data removed]",
            "text/plain": [
              "<Figure size 432x288 with 1 Axes>"
            ]
          },
          "metadata": {
            "tags": []
          }
        }
      ]
    },
    {
      "cell_type": "code",
      "metadata": {
        "id": "PobATK_Jgney",
        "colab_type": "code",
        "colab": {
          "base_uri": "https://localhost:8080/",
          "height": 52
        },
        "outputId": "411acf69-c21c-4255-cc1d-e769751c75dd"
      },
      "source": [
        "print(max(val_acc_bn), max(val_acc))\n",
        "print(len(val_acc_bn), len(val_acc))"
      ],
      "execution_count": 12,
      "outputs": [
        {
          "output_type": "stream",
          "text": [
            "0.8545 0.8307\n",
            "32 39\n"
          ],
          "name": "stdout"
        }
      ]
    }
  ]
}